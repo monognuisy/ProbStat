{
 "cells": [
  {
   "cell_type": "code",
   "execution_count": 170,
   "id": "5cd006cf",
   "metadata": {},
   "outputs": [],
   "source": [
    "import plotly.graph_objects as go\n",
    "import numpy as np\n",
    "from random import randint\n",
    "from scipy.special import factorial"
   ]
  },
  {
   "cell_type": "code",
   "execution_count": 171,
   "id": "ed634a38",
   "metadata": {},
   "outputs": [],
   "source": [
    "maxRange = 200\n",
    "iterNum = 1000\n",
    "l = iterNum / maxRange"
   ]
  },
  {
   "cell_type": "code",
   "execution_count": 172,
   "id": "a4bfd2ea",
   "metadata": {},
   "outputs": [],
   "source": [
    "def bernoulli() -> bool:\n",
    "  checkNum = 10\n",
    "  r = randint(1, maxRange)\n",
    "  \n",
    "  if (r == checkNum):\n",
    "    return True\n",
    "  else: \n",
    "    return False"
   ]
  },
  {
   "cell_type": "code",
   "execution_count": 173,
   "id": "3ca4e0ad",
   "metadata": {},
   "outputs": [],
   "source": [
    "trialNum = 1000 + 10\n",
    "PoissonRVList = [0] * trialNum\n",
    "ExpRVList = [0] * trialNum"
   ]
  },
  {
   "cell_type": "code",
   "execution_count": 174,
   "id": "4c2c4ec2",
   "metadata": {},
   "outputs": [],
   "source": [
    "def findPoissonVar() -> int:\n",
    "  howMany = 0\n",
    "  timeElapsed = 0\n",
    "  # isFirst = True\n",
    "\n",
    "  for i in range(iterNum):\n",
    "    timeElapsed += 1\n",
    "    if (bernoulli()):\n",
    "      howMany += 1\n",
    "      ExpRVList[timeElapsed] += 1\n",
    "      timeElapsed = 0\n",
    "\n",
    "  return howMany"
   ]
  },
  {
   "cell_type": "markdown",
   "id": "1b6f3980",
   "metadata": {},
   "source": []
  },
  {
   "cell_type": "code",
   "execution_count": 175,
   "id": "ef725883",
   "metadata": {},
   "outputs": [],
   "source": [
    "for i in range(trialNum):\n",
    "  prv = findPoissonVar()\n",
    "  PoissonRVList[prv] += 1\n",
    "\n",
    "PoissonRVList = [x / trialNum for x in PoissonRVList]\n",
    "ExpRVList = [x / trialNum for x in ExpRVList]"
   ]
  },
  {
   "cell_type": "code",
   "execution_count": 176,
   "id": "da75eb0a",
   "metadata": {},
   "outputs": [],
   "source": [
    "def poissonDist(x: int, l: int) -> float:\n",
    "  return ((l**x * np.e**(-l)) / factorial(x))"
   ]
  },
  {
   "cell_type": "code",
   "execution_count": 177,
   "id": "9812282f",
   "metadata": {},
   "outputs": [],
   "source": [
    "def expDistCDF(x: float, l: int) -> float:\n",
    "  return (1 - np.e**(-l * x))"
   ]
  },
  {
   "cell_type": "code",
   "execution_count": 178,
   "id": "1ec6d564",
   "metadata": {},
   "outputs": [],
   "source": [
    "def expDist(x: float, l: int) -> float:\n",
    "  return (l * np.e**(-l * x))"
   ]
  },
  {
   "cell_type": "code",
   "execution_count": 179,
   "id": "cb7d7634",
   "metadata": {},
   "outputs": [],
   "source": [
    "maxPoissonX = 30\n",
    "precise = 1000\n",
    "xList = np.linspace(0, maxPoissonX, maxPoissonX + 1)\n",
    "yList = [poissonDist(x, l) for x in xList]"
   ]
  },
  {
   "cell_type": "code",
   "execution_count": 180,
   "id": "2c2545b9",
   "metadata": {},
   "outputs": [
    {
     "data": {
      "application/vnd.plotly.v1+json": {
       "config": {
        "plotlyServerURL": "https://plot.ly"
       },
       "data": [
        {
         "name": "Simulation",
         "type": "bar",
         "y": [
          0.0049504950495049506,
          0.031683168316831684,
          0.06831683168316832,
          0.15247524752475247,
          0.16732673267326734,
          0.1782178217821782,
          0.15346534653465346,
          0.09900990099009901,
          0.07326732673267326,
          0.030693069306930693,
          0.024752475247524754,
          0.00891089108910891,
          0.0049504950495049506,
          0.0019801980198019802,
          0,
          0,
          0,
          0,
          0,
          0,
          0,
          0,
          0,
          0,
          0,
          0,
          0,
          0,
          0,
          0
         ]
        },
        {
         "mode": "lines",
         "name": "Poisson Dist.",
         "type": "scatter",
         "x": [
          0,
          1,
          2,
          3,
          4,
          5,
          6,
          7,
          8,
          9,
          10,
          11,
          12,
          13,
          14,
          15,
          16,
          17,
          18,
          19,
          20,
          21,
          22,
          23,
          24,
          25,
          26,
          27,
          28,
          29,
          30
         ],
         "y": [
          0.006737946999085469,
          0.033689734995427344,
          0.08422433748856836,
          0.14037389581428059,
          0.17546736976785074,
          0.17546736976785074,
          0.14622280813987562,
          0.10444486295705402,
          0.06527803934815876,
          0.036265577415643756,
          0.018132788707821874,
          0.008242176685373581,
          0.003434240285572325,
          0.0013208616482970482,
          0.0004717363029632315,
          0.00015724543432107718,
          0.000049139198225336615,
          0.000014452705360393122,
          0.000004014640377886979,
          0.0000010564843099702575,
          2.641210774925643e-7,
          6.288597083156294e-8,
          1.4292266098082488e-8,
          3.1070143691483665e-9,
          6.472946602392431e-10,
          1.2945893204784864e-10,
          2.4895948470740114e-11,
          4.610360827914837e-12,
          8.232787192705067e-13,
          1.4194460677077702e-13,
          2.3657434461796162e-14
         ]
        }
       ],
       "layout": {
        "template": {
         "data": {
          "bar": [
           {
            "error_x": {
             "color": "#2a3f5f"
            },
            "error_y": {
             "color": "#2a3f5f"
            },
            "marker": {
             "line": {
              "color": "#E5ECF6",
              "width": 0.5
             },
             "pattern": {
              "fillmode": "overlay",
              "size": 10,
              "solidity": 0.2
             }
            },
            "type": "bar"
           }
          ],
          "barpolar": [
           {
            "marker": {
             "line": {
              "color": "#E5ECF6",
              "width": 0.5
             },
             "pattern": {
              "fillmode": "overlay",
              "size": 10,
              "solidity": 0.2
             }
            },
            "type": "barpolar"
           }
          ],
          "carpet": [
           {
            "aaxis": {
             "endlinecolor": "#2a3f5f",
             "gridcolor": "white",
             "linecolor": "white",
             "minorgridcolor": "white",
             "startlinecolor": "#2a3f5f"
            },
            "baxis": {
             "endlinecolor": "#2a3f5f",
             "gridcolor": "white",
             "linecolor": "white",
             "minorgridcolor": "white",
             "startlinecolor": "#2a3f5f"
            },
            "type": "carpet"
           }
          ],
          "choropleth": [
           {
            "colorbar": {
             "outlinewidth": 0,
             "ticks": ""
            },
            "type": "choropleth"
           }
          ],
          "contour": [
           {
            "colorbar": {
             "outlinewidth": 0,
             "ticks": ""
            },
            "colorscale": [
             [
              0,
              "#0d0887"
             ],
             [
              0.1111111111111111,
              "#46039f"
             ],
             [
              0.2222222222222222,
              "#7201a8"
             ],
             [
              0.3333333333333333,
              "#9c179e"
             ],
             [
              0.4444444444444444,
              "#bd3786"
             ],
             [
              0.5555555555555556,
              "#d8576b"
             ],
             [
              0.6666666666666666,
              "#ed7953"
             ],
             [
              0.7777777777777778,
              "#fb9f3a"
             ],
             [
              0.8888888888888888,
              "#fdca26"
             ],
             [
              1,
              "#f0f921"
             ]
            ],
            "type": "contour"
           }
          ],
          "contourcarpet": [
           {
            "colorbar": {
             "outlinewidth": 0,
             "ticks": ""
            },
            "type": "contourcarpet"
           }
          ],
          "heatmap": [
           {
            "colorbar": {
             "outlinewidth": 0,
             "ticks": ""
            },
            "colorscale": [
             [
              0,
              "#0d0887"
             ],
             [
              0.1111111111111111,
              "#46039f"
             ],
             [
              0.2222222222222222,
              "#7201a8"
             ],
             [
              0.3333333333333333,
              "#9c179e"
             ],
             [
              0.4444444444444444,
              "#bd3786"
             ],
             [
              0.5555555555555556,
              "#d8576b"
             ],
             [
              0.6666666666666666,
              "#ed7953"
             ],
             [
              0.7777777777777778,
              "#fb9f3a"
             ],
             [
              0.8888888888888888,
              "#fdca26"
             ],
             [
              1,
              "#f0f921"
             ]
            ],
            "type": "heatmap"
           }
          ],
          "heatmapgl": [
           {
            "colorbar": {
             "outlinewidth": 0,
             "ticks": ""
            },
            "colorscale": [
             [
              0,
              "#0d0887"
             ],
             [
              0.1111111111111111,
              "#46039f"
             ],
             [
              0.2222222222222222,
              "#7201a8"
             ],
             [
              0.3333333333333333,
              "#9c179e"
             ],
             [
              0.4444444444444444,
              "#bd3786"
             ],
             [
              0.5555555555555556,
              "#d8576b"
             ],
             [
              0.6666666666666666,
              "#ed7953"
             ],
             [
              0.7777777777777778,
              "#fb9f3a"
             ],
             [
              0.8888888888888888,
              "#fdca26"
             ],
             [
              1,
              "#f0f921"
             ]
            ],
            "type": "heatmapgl"
           }
          ],
          "histogram": [
           {
            "marker": {
             "pattern": {
              "fillmode": "overlay",
              "size": 10,
              "solidity": 0.2
             }
            },
            "type": "histogram"
           }
          ],
          "histogram2d": [
           {
            "colorbar": {
             "outlinewidth": 0,
             "ticks": ""
            },
            "colorscale": [
             [
              0,
              "#0d0887"
             ],
             [
              0.1111111111111111,
              "#46039f"
             ],
             [
              0.2222222222222222,
              "#7201a8"
             ],
             [
              0.3333333333333333,
              "#9c179e"
             ],
             [
              0.4444444444444444,
              "#bd3786"
             ],
             [
              0.5555555555555556,
              "#d8576b"
             ],
             [
              0.6666666666666666,
              "#ed7953"
             ],
             [
              0.7777777777777778,
              "#fb9f3a"
             ],
             [
              0.8888888888888888,
              "#fdca26"
             ],
             [
              1,
              "#f0f921"
             ]
            ],
            "type": "histogram2d"
           }
          ],
          "histogram2dcontour": [
           {
            "colorbar": {
             "outlinewidth": 0,
             "ticks": ""
            },
            "colorscale": [
             [
              0,
              "#0d0887"
             ],
             [
              0.1111111111111111,
              "#46039f"
             ],
             [
              0.2222222222222222,
              "#7201a8"
             ],
             [
              0.3333333333333333,
              "#9c179e"
             ],
             [
              0.4444444444444444,
              "#bd3786"
             ],
             [
              0.5555555555555556,
              "#d8576b"
             ],
             [
              0.6666666666666666,
              "#ed7953"
             ],
             [
              0.7777777777777778,
              "#fb9f3a"
             ],
             [
              0.8888888888888888,
              "#fdca26"
             ],
             [
              1,
              "#f0f921"
             ]
            ],
            "type": "histogram2dcontour"
           }
          ],
          "mesh3d": [
           {
            "colorbar": {
             "outlinewidth": 0,
             "ticks": ""
            },
            "type": "mesh3d"
           }
          ],
          "parcoords": [
           {
            "line": {
             "colorbar": {
              "outlinewidth": 0,
              "ticks": ""
             }
            },
            "type": "parcoords"
           }
          ],
          "pie": [
           {
            "automargin": true,
            "type": "pie"
           }
          ],
          "scatter": [
           {
            "fillpattern": {
             "fillmode": "overlay",
             "size": 10,
             "solidity": 0.2
            },
            "type": "scatter"
           }
          ],
          "scatter3d": [
           {
            "line": {
             "colorbar": {
              "outlinewidth": 0,
              "ticks": ""
             }
            },
            "marker": {
             "colorbar": {
              "outlinewidth": 0,
              "ticks": ""
             }
            },
            "type": "scatter3d"
           }
          ],
          "scattercarpet": [
           {
            "marker": {
             "colorbar": {
              "outlinewidth": 0,
              "ticks": ""
             }
            },
            "type": "scattercarpet"
           }
          ],
          "scattergeo": [
           {
            "marker": {
             "colorbar": {
              "outlinewidth": 0,
              "ticks": ""
             }
            },
            "type": "scattergeo"
           }
          ],
          "scattergl": [
           {
            "marker": {
             "colorbar": {
              "outlinewidth": 0,
              "ticks": ""
             }
            },
            "type": "scattergl"
           }
          ],
          "scattermapbox": [
           {
            "marker": {
             "colorbar": {
              "outlinewidth": 0,
              "ticks": ""
             }
            },
            "type": "scattermapbox"
           }
          ],
          "scatterpolar": [
           {
            "marker": {
             "colorbar": {
              "outlinewidth": 0,
              "ticks": ""
             }
            },
            "type": "scatterpolar"
           }
          ],
          "scatterpolargl": [
           {
            "marker": {
             "colorbar": {
              "outlinewidth": 0,
              "ticks": ""
             }
            },
            "type": "scatterpolargl"
           }
          ],
          "scatterternary": [
           {
            "marker": {
             "colorbar": {
              "outlinewidth": 0,
              "ticks": ""
             }
            },
            "type": "scatterternary"
           }
          ],
          "surface": [
           {
            "colorbar": {
             "outlinewidth": 0,
             "ticks": ""
            },
            "colorscale": [
             [
              0,
              "#0d0887"
             ],
             [
              0.1111111111111111,
              "#46039f"
             ],
             [
              0.2222222222222222,
              "#7201a8"
             ],
             [
              0.3333333333333333,
              "#9c179e"
             ],
             [
              0.4444444444444444,
              "#bd3786"
             ],
             [
              0.5555555555555556,
              "#d8576b"
             ],
             [
              0.6666666666666666,
              "#ed7953"
             ],
             [
              0.7777777777777778,
              "#fb9f3a"
             ],
             [
              0.8888888888888888,
              "#fdca26"
             ],
             [
              1,
              "#f0f921"
             ]
            ],
            "type": "surface"
           }
          ],
          "table": [
           {
            "cells": {
             "fill": {
              "color": "#EBF0F8"
             },
             "line": {
              "color": "white"
             }
            },
            "header": {
             "fill": {
              "color": "#C8D4E3"
             },
             "line": {
              "color": "white"
             }
            },
            "type": "table"
           }
          ]
         },
         "layout": {
          "annotationdefaults": {
           "arrowcolor": "#2a3f5f",
           "arrowhead": 0,
           "arrowwidth": 1
          },
          "autotypenumbers": "strict",
          "coloraxis": {
           "colorbar": {
            "outlinewidth": 0,
            "ticks": ""
           }
          },
          "colorscale": {
           "diverging": [
            [
             0,
             "#8e0152"
            ],
            [
             0.1,
             "#c51b7d"
            ],
            [
             0.2,
             "#de77ae"
            ],
            [
             0.3,
             "#f1b6da"
            ],
            [
             0.4,
             "#fde0ef"
            ],
            [
             0.5,
             "#f7f7f7"
            ],
            [
             0.6,
             "#e6f5d0"
            ],
            [
             0.7,
             "#b8e186"
            ],
            [
             0.8,
             "#7fbc41"
            ],
            [
             0.9,
             "#4d9221"
            ],
            [
             1,
             "#276419"
            ]
           ],
           "sequential": [
            [
             0,
             "#0d0887"
            ],
            [
             0.1111111111111111,
             "#46039f"
            ],
            [
             0.2222222222222222,
             "#7201a8"
            ],
            [
             0.3333333333333333,
             "#9c179e"
            ],
            [
             0.4444444444444444,
             "#bd3786"
            ],
            [
             0.5555555555555556,
             "#d8576b"
            ],
            [
             0.6666666666666666,
             "#ed7953"
            ],
            [
             0.7777777777777778,
             "#fb9f3a"
            ],
            [
             0.8888888888888888,
             "#fdca26"
            ],
            [
             1,
             "#f0f921"
            ]
           ],
           "sequentialminus": [
            [
             0,
             "#0d0887"
            ],
            [
             0.1111111111111111,
             "#46039f"
            ],
            [
             0.2222222222222222,
             "#7201a8"
            ],
            [
             0.3333333333333333,
             "#9c179e"
            ],
            [
             0.4444444444444444,
             "#bd3786"
            ],
            [
             0.5555555555555556,
             "#d8576b"
            ],
            [
             0.6666666666666666,
             "#ed7953"
            ],
            [
             0.7777777777777778,
             "#fb9f3a"
            ],
            [
             0.8888888888888888,
             "#fdca26"
            ],
            [
             1,
             "#f0f921"
            ]
           ]
          },
          "colorway": [
           "#636efa",
           "#EF553B",
           "#00cc96",
           "#ab63fa",
           "#FFA15A",
           "#19d3f3",
           "#FF6692",
           "#B6E880",
           "#FF97FF",
           "#FECB52"
          ],
          "font": {
           "color": "#2a3f5f"
          },
          "geo": {
           "bgcolor": "white",
           "lakecolor": "white",
           "landcolor": "#E5ECF6",
           "showlakes": true,
           "showland": true,
           "subunitcolor": "white"
          },
          "hoverlabel": {
           "align": "left"
          },
          "hovermode": "closest",
          "mapbox": {
           "style": "light"
          },
          "paper_bgcolor": "white",
          "plot_bgcolor": "#E5ECF6",
          "polar": {
           "angularaxis": {
            "gridcolor": "white",
            "linecolor": "white",
            "ticks": ""
           },
           "bgcolor": "#E5ECF6",
           "radialaxis": {
            "gridcolor": "white",
            "linecolor": "white",
            "ticks": ""
           }
          },
          "scene": {
           "xaxis": {
            "backgroundcolor": "#E5ECF6",
            "gridcolor": "white",
            "gridwidth": 2,
            "linecolor": "white",
            "showbackground": true,
            "ticks": "",
            "zerolinecolor": "white"
           },
           "yaxis": {
            "backgroundcolor": "#E5ECF6",
            "gridcolor": "white",
            "gridwidth": 2,
            "linecolor": "white",
            "showbackground": true,
            "ticks": "",
            "zerolinecolor": "white"
           },
           "zaxis": {
            "backgroundcolor": "#E5ECF6",
            "gridcolor": "white",
            "gridwidth": 2,
            "linecolor": "white",
            "showbackground": true,
            "ticks": "",
            "zerolinecolor": "white"
           }
          },
          "shapedefaults": {
           "line": {
            "color": "#2a3f5f"
           }
          },
          "ternary": {
           "aaxis": {
            "gridcolor": "white",
            "linecolor": "white",
            "ticks": ""
           },
           "baxis": {
            "gridcolor": "white",
            "linecolor": "white",
            "ticks": ""
           },
           "bgcolor": "#E5ECF6",
           "caxis": {
            "gridcolor": "white",
            "linecolor": "white",
            "ticks": ""
           }
          },
          "title": {
           "x": 0.05
          },
          "xaxis": {
           "automargin": true,
           "gridcolor": "white",
           "linecolor": "white",
           "ticks": "",
           "title": {
            "standoff": 15
           },
           "zerolinecolor": "white",
           "zerolinewidth": 2
          },
          "yaxis": {
           "automargin": true,
           "gridcolor": "white",
           "linecolor": "white",
           "ticks": "",
           "title": {
            "standoff": 15
           },
           "zerolinecolor": "white",
           "zerolinewidth": 2
          }
         }
        }
       }
      },
      "text/html": [
       "<div>                            <div id=\"cc7a9070-db26-45f1-9cb8-9bd91d26f55c\" class=\"plotly-graph-div\" style=\"height:525px; width:100%;\"></div>            <script type=\"text/javascript\">                require([\"plotly\"], function(Plotly) {                    window.PLOTLYENV=window.PLOTLYENV || {};                                    if (document.getElementById(\"cc7a9070-db26-45f1-9cb8-9bd91d26f55c\")) {                    Plotly.newPlot(                        \"cc7a9070-db26-45f1-9cb8-9bd91d26f55c\",                        [{\"name\":\"Simulation\",\"y\":[0.0049504950495049506,0.031683168316831684,0.06831683168316832,0.15247524752475247,0.16732673267326734,0.1782178217821782,0.15346534653465346,0.09900990099009901,0.07326732673267326,0.030693069306930693,0.024752475247524754,0.00891089108910891,0.0049504950495049506,0.0019801980198019802,0.0,0.0,0.0,0.0,0.0,0.0,0.0,0.0,0.0,0.0,0.0,0.0,0.0,0.0,0.0,0.0],\"type\":\"bar\"},{\"mode\":\"lines\",\"name\":\"Poisson Dist.\",\"x\":[0.0,1.0,2.0,3.0,4.0,5.0,6.0,7.0,8.0,9.0,10.0,11.0,12.0,13.0,14.0,15.0,16.0,17.0,18.0,19.0,20.0,21.0,22.0,23.0,24.0,25.0,26.0,27.0,28.0,29.0,30.0],\"y\":[0.006737946999085469,0.033689734995427344,0.08422433748856836,0.14037389581428059,0.17546736976785074,0.17546736976785074,0.14622280813987562,0.10444486295705402,0.06527803934815876,0.036265577415643756,0.018132788707821874,0.008242176685373581,0.003434240285572325,0.0013208616482970482,0.0004717363029632315,0.00015724543432107718,4.9139198225336615e-05,1.4452705360393122e-05,4.014640377886979e-06,1.0564843099702575e-06,2.641210774925643e-07,6.288597083156294e-08,1.4292266098082488e-08,3.1070143691483665e-09,6.472946602392431e-10,1.2945893204784864e-10,2.4895948470740114e-11,4.610360827914837e-12,8.232787192705067e-13,1.4194460677077702e-13,2.3657434461796162e-14],\"type\":\"scatter\"}],                        {\"template\":{\"data\":{\"histogram2dcontour\":[{\"type\":\"histogram2dcontour\",\"colorbar\":{\"outlinewidth\":0,\"ticks\":\"\"},\"colorscale\":[[0.0,\"#0d0887\"],[0.1111111111111111,\"#46039f\"],[0.2222222222222222,\"#7201a8\"],[0.3333333333333333,\"#9c179e\"],[0.4444444444444444,\"#bd3786\"],[0.5555555555555556,\"#d8576b\"],[0.6666666666666666,\"#ed7953\"],[0.7777777777777778,\"#fb9f3a\"],[0.8888888888888888,\"#fdca26\"],[1.0,\"#f0f921\"]]}],\"choropleth\":[{\"type\":\"choropleth\",\"colorbar\":{\"outlinewidth\":0,\"ticks\":\"\"}}],\"histogram2d\":[{\"type\":\"histogram2d\",\"colorbar\":{\"outlinewidth\":0,\"ticks\":\"\"},\"colorscale\":[[0.0,\"#0d0887\"],[0.1111111111111111,\"#46039f\"],[0.2222222222222222,\"#7201a8\"],[0.3333333333333333,\"#9c179e\"],[0.4444444444444444,\"#bd3786\"],[0.5555555555555556,\"#d8576b\"],[0.6666666666666666,\"#ed7953\"],[0.7777777777777778,\"#fb9f3a\"],[0.8888888888888888,\"#fdca26\"],[1.0,\"#f0f921\"]]}],\"heatmap\":[{\"type\":\"heatmap\",\"colorbar\":{\"outlinewidth\":0,\"ticks\":\"\"},\"colorscale\":[[0.0,\"#0d0887\"],[0.1111111111111111,\"#46039f\"],[0.2222222222222222,\"#7201a8\"],[0.3333333333333333,\"#9c179e\"],[0.4444444444444444,\"#bd3786\"],[0.5555555555555556,\"#d8576b\"],[0.6666666666666666,\"#ed7953\"],[0.7777777777777778,\"#fb9f3a\"],[0.8888888888888888,\"#fdca26\"],[1.0,\"#f0f921\"]]}],\"heatmapgl\":[{\"type\":\"heatmapgl\",\"colorbar\":{\"outlinewidth\":0,\"ticks\":\"\"},\"colorscale\":[[0.0,\"#0d0887\"],[0.1111111111111111,\"#46039f\"],[0.2222222222222222,\"#7201a8\"],[0.3333333333333333,\"#9c179e\"],[0.4444444444444444,\"#bd3786\"],[0.5555555555555556,\"#d8576b\"],[0.6666666666666666,\"#ed7953\"],[0.7777777777777778,\"#fb9f3a\"],[0.8888888888888888,\"#fdca26\"],[1.0,\"#f0f921\"]]}],\"contourcarpet\":[{\"type\":\"contourcarpet\",\"colorbar\":{\"outlinewidth\":0,\"ticks\":\"\"}}],\"contour\":[{\"type\":\"contour\",\"colorbar\":{\"outlinewidth\":0,\"ticks\":\"\"},\"colorscale\":[[0.0,\"#0d0887\"],[0.1111111111111111,\"#46039f\"],[0.2222222222222222,\"#7201a8\"],[0.3333333333333333,\"#9c179e\"],[0.4444444444444444,\"#bd3786\"],[0.5555555555555556,\"#d8576b\"],[0.6666666666666666,\"#ed7953\"],[0.7777777777777778,\"#fb9f3a\"],[0.8888888888888888,\"#fdca26\"],[1.0,\"#f0f921\"]]}],\"surface\":[{\"type\":\"surface\",\"colorbar\":{\"outlinewidth\":0,\"ticks\":\"\"},\"colorscale\":[[0.0,\"#0d0887\"],[0.1111111111111111,\"#46039f\"],[0.2222222222222222,\"#7201a8\"],[0.3333333333333333,\"#9c179e\"],[0.4444444444444444,\"#bd3786\"],[0.5555555555555556,\"#d8576b\"],[0.6666666666666666,\"#ed7953\"],[0.7777777777777778,\"#fb9f3a\"],[0.8888888888888888,\"#fdca26\"],[1.0,\"#f0f921\"]]}],\"mesh3d\":[{\"type\":\"mesh3d\",\"colorbar\":{\"outlinewidth\":0,\"ticks\":\"\"}}],\"scatter\":[{\"fillpattern\":{\"fillmode\":\"overlay\",\"size\":10,\"solidity\":0.2},\"type\":\"scatter\"}],\"parcoords\":[{\"type\":\"parcoords\",\"line\":{\"colorbar\":{\"outlinewidth\":0,\"ticks\":\"\"}}}],\"scatterpolargl\":[{\"type\":\"scatterpolargl\",\"marker\":{\"colorbar\":{\"outlinewidth\":0,\"ticks\":\"\"}}}],\"bar\":[{\"error_x\":{\"color\":\"#2a3f5f\"},\"error_y\":{\"color\":\"#2a3f5f\"},\"marker\":{\"line\":{\"color\":\"#E5ECF6\",\"width\":0.5},\"pattern\":{\"fillmode\":\"overlay\",\"size\":10,\"solidity\":0.2}},\"type\":\"bar\"}],\"scattergeo\":[{\"type\":\"scattergeo\",\"marker\":{\"colorbar\":{\"outlinewidth\":0,\"ticks\":\"\"}}}],\"scatterpolar\":[{\"type\":\"scatterpolar\",\"marker\":{\"colorbar\":{\"outlinewidth\":0,\"ticks\":\"\"}}}],\"histogram\":[{\"marker\":{\"pattern\":{\"fillmode\":\"overlay\",\"size\":10,\"solidity\":0.2}},\"type\":\"histogram\"}],\"scattergl\":[{\"type\":\"scattergl\",\"marker\":{\"colorbar\":{\"outlinewidth\":0,\"ticks\":\"\"}}}],\"scatter3d\":[{\"type\":\"scatter3d\",\"line\":{\"colorbar\":{\"outlinewidth\":0,\"ticks\":\"\"}},\"marker\":{\"colorbar\":{\"outlinewidth\":0,\"ticks\":\"\"}}}],\"scattermapbox\":[{\"type\":\"scattermapbox\",\"marker\":{\"colorbar\":{\"outlinewidth\":0,\"ticks\":\"\"}}}],\"scatterternary\":[{\"type\":\"scatterternary\",\"marker\":{\"colorbar\":{\"outlinewidth\":0,\"ticks\":\"\"}}}],\"scattercarpet\":[{\"type\":\"scattercarpet\",\"marker\":{\"colorbar\":{\"outlinewidth\":0,\"ticks\":\"\"}}}],\"carpet\":[{\"aaxis\":{\"endlinecolor\":\"#2a3f5f\",\"gridcolor\":\"white\",\"linecolor\":\"white\",\"minorgridcolor\":\"white\",\"startlinecolor\":\"#2a3f5f\"},\"baxis\":{\"endlinecolor\":\"#2a3f5f\",\"gridcolor\":\"white\",\"linecolor\":\"white\",\"minorgridcolor\":\"white\",\"startlinecolor\":\"#2a3f5f\"},\"type\":\"carpet\"}],\"table\":[{\"cells\":{\"fill\":{\"color\":\"#EBF0F8\"},\"line\":{\"color\":\"white\"}},\"header\":{\"fill\":{\"color\":\"#C8D4E3\"},\"line\":{\"color\":\"white\"}},\"type\":\"table\"}],\"barpolar\":[{\"marker\":{\"line\":{\"color\":\"#E5ECF6\",\"width\":0.5},\"pattern\":{\"fillmode\":\"overlay\",\"size\":10,\"solidity\":0.2}},\"type\":\"barpolar\"}],\"pie\":[{\"automargin\":true,\"type\":\"pie\"}]},\"layout\":{\"autotypenumbers\":\"strict\",\"colorway\":[\"#636efa\",\"#EF553B\",\"#00cc96\",\"#ab63fa\",\"#FFA15A\",\"#19d3f3\",\"#FF6692\",\"#B6E880\",\"#FF97FF\",\"#FECB52\"],\"font\":{\"color\":\"#2a3f5f\"},\"hovermode\":\"closest\",\"hoverlabel\":{\"align\":\"left\"},\"paper_bgcolor\":\"white\",\"plot_bgcolor\":\"#E5ECF6\",\"polar\":{\"bgcolor\":\"#E5ECF6\",\"angularaxis\":{\"gridcolor\":\"white\",\"linecolor\":\"white\",\"ticks\":\"\"},\"radialaxis\":{\"gridcolor\":\"white\",\"linecolor\":\"white\",\"ticks\":\"\"}},\"ternary\":{\"bgcolor\":\"#E5ECF6\",\"aaxis\":{\"gridcolor\":\"white\",\"linecolor\":\"white\",\"ticks\":\"\"},\"baxis\":{\"gridcolor\":\"white\",\"linecolor\":\"white\",\"ticks\":\"\"},\"caxis\":{\"gridcolor\":\"white\",\"linecolor\":\"white\",\"ticks\":\"\"}},\"coloraxis\":{\"colorbar\":{\"outlinewidth\":0,\"ticks\":\"\"}},\"colorscale\":{\"sequential\":[[0.0,\"#0d0887\"],[0.1111111111111111,\"#46039f\"],[0.2222222222222222,\"#7201a8\"],[0.3333333333333333,\"#9c179e\"],[0.4444444444444444,\"#bd3786\"],[0.5555555555555556,\"#d8576b\"],[0.6666666666666666,\"#ed7953\"],[0.7777777777777778,\"#fb9f3a\"],[0.8888888888888888,\"#fdca26\"],[1.0,\"#f0f921\"]],\"sequentialminus\":[[0.0,\"#0d0887\"],[0.1111111111111111,\"#46039f\"],[0.2222222222222222,\"#7201a8\"],[0.3333333333333333,\"#9c179e\"],[0.4444444444444444,\"#bd3786\"],[0.5555555555555556,\"#d8576b\"],[0.6666666666666666,\"#ed7953\"],[0.7777777777777778,\"#fb9f3a\"],[0.8888888888888888,\"#fdca26\"],[1.0,\"#f0f921\"]],\"diverging\":[[0,\"#8e0152\"],[0.1,\"#c51b7d\"],[0.2,\"#de77ae\"],[0.3,\"#f1b6da\"],[0.4,\"#fde0ef\"],[0.5,\"#f7f7f7\"],[0.6,\"#e6f5d0\"],[0.7,\"#b8e186\"],[0.8,\"#7fbc41\"],[0.9,\"#4d9221\"],[1,\"#276419\"]]},\"xaxis\":{\"gridcolor\":\"white\",\"linecolor\":\"white\",\"ticks\":\"\",\"title\":{\"standoff\":15},\"zerolinecolor\":\"white\",\"automargin\":true,\"zerolinewidth\":2},\"yaxis\":{\"gridcolor\":\"white\",\"linecolor\":\"white\",\"ticks\":\"\",\"title\":{\"standoff\":15},\"zerolinecolor\":\"white\",\"automargin\":true,\"zerolinewidth\":2},\"scene\":{\"xaxis\":{\"backgroundcolor\":\"#E5ECF6\",\"gridcolor\":\"white\",\"linecolor\":\"white\",\"showbackground\":true,\"ticks\":\"\",\"zerolinecolor\":\"white\",\"gridwidth\":2},\"yaxis\":{\"backgroundcolor\":\"#E5ECF6\",\"gridcolor\":\"white\",\"linecolor\":\"white\",\"showbackground\":true,\"ticks\":\"\",\"zerolinecolor\":\"white\",\"gridwidth\":2},\"zaxis\":{\"backgroundcolor\":\"#E5ECF6\",\"gridcolor\":\"white\",\"linecolor\":\"white\",\"showbackground\":true,\"ticks\":\"\",\"zerolinecolor\":\"white\",\"gridwidth\":2}},\"shapedefaults\":{\"line\":{\"color\":\"#2a3f5f\"}},\"annotationdefaults\":{\"arrowcolor\":\"#2a3f5f\",\"arrowhead\":0,\"arrowwidth\":1},\"geo\":{\"bgcolor\":\"white\",\"landcolor\":\"#E5ECF6\",\"subunitcolor\":\"white\",\"showland\":true,\"showlakes\":true,\"lakecolor\":\"white\"},\"title\":{\"x\":0.05},\"mapbox\":{\"style\":\"light\"}}}},                        {\"responsive\": true}                    ).then(function(){\n",
       "                            \n",
       "var gd = document.getElementById('cc7a9070-db26-45f1-9cb8-9bd91d26f55c');\n",
       "var x = new MutationObserver(function (mutations, observer) {{\n",
       "        var display = window.getComputedStyle(gd).display;\n",
       "        if (!display || display === 'none') {{\n",
       "            console.log([gd, 'removed!']);\n",
       "            Plotly.purge(gd);\n",
       "            observer.disconnect();\n",
       "        }}\n",
       "}});\n",
       "\n",
       "// Listen for the removal of the full notebook cells\n",
       "var notebookContainer = gd.closest('#notebook-container');\n",
       "if (notebookContainer) {{\n",
       "    x.observe(notebookContainer, {childList: true});\n",
       "}}\n",
       "\n",
       "// Listen for the clearing of the current output cell\n",
       "var outputEl = gd.closest('.output');\n",
       "if (outputEl) {{\n",
       "    x.observe(outputEl, {childList: true});\n",
       "}}\n",
       "\n",
       "                        })                };                });            </script>        </div>"
      ]
     },
     "metadata": {},
     "output_type": "display_data"
    }
   ],
   "source": [
    "fig = go.Figure()\n",
    "fig.add_trace(go.Bar(y=PoissonRVList[:maxPoissonX], name='Simulation'))\n",
    "fig.add_trace(go.Scatter(x=xList, y=yList, mode='lines', name='Poisson Dist.'))\n",
    "fig.show()"
   ]
  },
  {
   "cell_type": "code",
   "execution_count": 181,
   "id": "43e5fa5b",
   "metadata": {},
   "outputs": [],
   "source": [
    "maxExpX = 50\n",
    "precise = 1000\n",
    "xList = np.linspace(0, maxExpX, precise)\n",
    "yList = [expDistCDF(x, l) for x in xList]"
   ]
  },
  {
   "cell_type": "code",
   "execution_count": 182,
   "id": "8912f89d",
   "metadata": {},
   "outputs": [
    {
     "data": {
      "application/vnd.plotly.v1+json": {
       "config": {
        "plotlyServerURL": "https://plot.ly"
       },
       "data": [
        {
         "name": "Simulation",
         "type": "bar",
         "y": [
          0,
          0.030693069306930693,
          0.030693069306930693,
          0.030693069306930693,
          0.031683168316831684,
          0.031683168316831684,
          0.034653465346534656,
          0.030693069306930693,
          0.02574257425742574,
          0.024752475247524754,
          0.01782178217821782,
          0.040594059405940595,
          0.027722772277227723,
          0.028712871287128714,
          0.031683168316831684,
          0.028712871287128714,
          0.03861386138613861,
          0.02574257425742574,
          0.027722772277227723,
          0.02178217821782178,
          0.0297029702970297,
          0.033663366336633666,
          0.0297029702970297,
          0.027722772277227723,
          0.032673267326732675,
          0.02574257425742574,
          0.028712871287128714,
          0.019801980198019802,
          0.020792079207920793,
          0.02178217821782178,
          0.032673267326732675,
          0.028712871287128714,
          0.02178217821782178,
          0.02277227722772277,
          0.032673267326732675,
          0.020792079207920793,
          0.023762376237623763,
          0.02574257425742574,
          0.024752475247524754,
          0.028712871287128714,
          0.01485148514851485,
          0.031683168316831684,
          0.030693069306930693,
          0.028712871287128714,
          0.041584158415841586,
          0.02178217821782178,
          0.02178217821782178,
          0.019801980198019802,
          0.023762376237623763,
          0.019801980198019802
         ]
        },
        {
         "mode": "lines",
         "name": "Exp Dist.",
         "type": "scatter",
         "x": [
          0,
          0.05005005005005005,
          0.1001001001001001,
          0.15015015015015015,
          0.2002002002002002,
          0.2502502502502503,
          0.3003003003003003,
          0.3503503503503504,
          0.4004004004004004,
          0.45045045045045046,
          0.5005005005005005,
          0.5505505505505506,
          0.6006006006006006,
          0.6506506506506506,
          0.7007007007007008,
          0.7507507507507508,
          0.8008008008008008,
          0.8508508508508509,
          0.9009009009009009,
          0.9509509509509511,
          1.001001001001001,
          1.0510510510510511,
          1.1011011011011012,
          1.1511511511511512,
          1.2012012012012012,
          1.2512512512512513,
          1.3013013013013013,
          1.3513513513513515,
          1.4014014014014016,
          1.4514514514514516,
          1.5015015015015016,
          1.5515515515515517,
          1.6016016016016017,
          1.6516516516516517,
          1.7017017017017018,
          1.7517517517517518,
          1.8018018018018018,
          1.8518518518518519,
          1.9019019019019021,
          1.9519519519519521,
          2.002002002002002,
          2.052052052052052,
          2.1021021021021022,
          2.1521521521521523,
          2.2022022022022023,
          2.2522522522522523,
          2.3023023023023024,
          2.3523523523523524,
          2.4024024024024024,
          2.4524524524524525,
          2.5025025025025025,
          2.5525525525525525,
          2.6026026026026026,
          2.6526526526526526,
          2.702702702702703,
          2.752752752752753,
          2.802802802802803,
          2.852852852852853,
          2.902902902902903,
          2.9529529529529532,
          3.0030030030030033,
          3.0530530530530533,
          3.1031031031031033,
          3.1531531531531534,
          3.2032032032032034,
          3.2532532532532534,
          3.3033033033033035,
          3.3533533533533535,
          3.4034034034034035,
          3.4534534534534536,
          3.5035035035035036,
          3.5535535535535536,
          3.6036036036036037,
          3.6536536536536537,
          3.7037037037037037,
          3.753753753753754,
          3.8038038038038042,
          3.8538538538538543,
          3.9039039039039043,
          3.9539539539539543,
          4.004004004004004,
          4.054054054054054,
          4.104104104104104,
          4.1541541541541545,
          4.2042042042042045,
          4.2542542542542545,
          4.3043043043043046,
          4.354354354354355,
          4.404404404404405,
          4.454454454454455,
          4.504504504504505,
          4.554554554554555,
          4.604604604604605,
          4.654654654654655,
          4.704704704704705,
          4.754754754754755,
          4.804804804804805,
          4.854854854854855,
          4.904904904904905,
          4.954954954954955,
          5.005005005005005,
          5.055055055055055,
          5.105105105105105,
          5.155155155155155,
          5.205205205205205,
          5.255255255255255,
          5.305305305305305,
          5.355355355355356,
          5.405405405405406,
          5.455455455455456,
          5.505505505505506,
          5.555555555555556,
          5.605605605605606,
          5.655655655655656,
          5.705705705705706,
          5.755755755755756,
          5.805805805805806,
          5.855855855855856,
          5.9059059059059065,
          5.9559559559559565,
          6.0060060060060065,
          6.056056056056057,
          6.106106106106107,
          6.156156156156157,
          6.206206206206207,
          6.256256256256257,
          6.306306306306307,
          6.356356356356357,
          6.406406406406407,
          6.456456456456457,
          6.506506506506507,
          6.556556556556557,
          6.606606606606607,
          6.656656656656657,
          6.706706706706707,
          6.756756756756757,
          6.806806806806807,
          6.856856856856857,
          6.906906906906907,
          6.956956956956957,
          7.007007007007007,
          7.057057057057057,
          7.107107107107107,
          7.157157157157157,
          7.207207207207207,
          7.257257257257257,
          7.307307307307307,
          7.357357357357357,
          7.407407407407407,
          7.4574574574574575,
          7.507507507507508,
          7.557557557557558,
          7.6076076076076085,
          7.6576576576576585,
          7.7077077077077085,
          7.7577577577577586,
          7.807807807807809,
          7.857857857857859,
          7.907907907907909,
          7.957957957957959,
          8.008008008008009,
          8.058058058058059,
          8.108108108108109,
          8.158158158158159,
          8.208208208208209,
          8.258258258258259,
          8.308308308308309,
          8.358358358358359,
          8.408408408408409,
          8.458458458458459,
          8.508508508508509,
          8.558558558558559,
          8.608608608608609,
          8.65865865865866,
          8.70870870870871,
          8.75875875875876,
          8.80880880880881,
          8.85885885885886,
          8.90890890890891,
          8.95895895895896,
          9.00900900900901,
          9.05905905905906,
          9.10910910910911,
          9.15915915915916,
          9.20920920920921,
          9.25925925925926,
          9.30930930930931,
          9.35935935935936,
          9.40940940940941,
          9.45945945945946,
          9.50950950950951,
          9.55955955955956,
          9.60960960960961,
          9.65965965965966,
          9.70970970970971,
          9.75975975975976,
          9.80980980980981,
          9.85985985985986,
          9.90990990990991,
          9.95995995995996,
          10.01001001001001,
          10.06006006006006,
          10.11011011011011,
          10.16016016016016,
          10.21021021021021,
          10.26026026026026,
          10.31031031031031,
          10.36036036036036,
          10.41041041041041,
          10.46046046046046,
          10.51051051051051,
          10.56056056056056,
          10.61061061061061,
          10.66066066066066,
          10.710710710710712,
          10.760760760760762,
          10.810810810810812,
          10.860860860860862,
          10.910910910910912,
          10.960960960960962,
          11.011011011011012,
          11.061061061061062,
          11.111111111111112,
          11.161161161161163,
          11.211211211211213,
          11.261261261261263,
          11.311311311311313,
          11.361361361361363,
          11.411411411411413,
          11.461461461461463,
          11.511511511511513,
          11.561561561561563,
          11.611611611611613,
          11.661661661661663,
          11.711711711711713,
          11.761761761761763,
          11.811811811811813,
          11.861861861861863,
          11.911911911911913,
          11.961961961961963,
          12.012012012012013,
          12.062062062062063,
          12.112112112112113,
          12.162162162162163,
          12.212212212212213,
          12.262262262262263,
          12.312312312312313,
          12.362362362362363,
          12.412412412412413,
          12.462462462462463,
          12.512512512512513,
          12.562562562562563,
          12.612612612612613,
          12.662662662662663,
          12.712712712712714,
          12.762762762762764,
          12.812812812812814,
          12.862862862862864,
          12.912912912912914,
          12.962962962962964,
          13.013013013013014,
          13.063063063063064,
          13.113113113113114,
          13.163163163163164,
          13.213213213213214,
          13.263263263263264,
          13.313313313313314,
          13.363363363363364,
          13.413413413413414,
          13.463463463463464,
          13.513513513513514,
          13.563563563563564,
          13.613613613613614,
          13.663663663663664,
          13.713713713713714,
          13.763763763763764,
          13.813813813813814,
          13.863863863863864,
          13.913913913913914,
          13.963963963963964,
          14.014014014014014,
          14.064064064064064,
          14.114114114114114,
          14.164164164164164,
          14.214214214214214,
          14.264264264264265,
          14.314314314314315,
          14.364364364364365,
          14.414414414414415,
          14.464464464464465,
          14.514514514514515,
          14.564564564564565,
          14.614614614614615,
          14.664664664664665,
          14.714714714714715,
          14.764764764764765,
          14.814814814814815,
          14.864864864864865,
          14.914914914914915,
          14.964964964964967,
          15.015015015015017,
          15.065065065065067,
          15.115115115115117,
          15.165165165165167,
          15.215215215215217,
          15.265265265265267,
          15.315315315315317,
          15.365365365365367,
          15.415415415415417,
          15.465465465465467,
          15.515515515515517,
          15.565565565565567,
          15.615615615615617,
          15.665665665665667,
          15.715715715715717,
          15.765765765765767,
          15.815815815815817,
          15.865865865865867,
          15.915915915915917,
          15.965965965965967,
          16.016016016016017,
          16.066066066066067,
          16.116116116116117,
          16.166166166166168,
          16.216216216216218,
          16.266266266266268,
          16.316316316316318,
          16.366366366366368,
          16.416416416416418,
          16.466466466466468,
          16.516516516516518,
          16.566566566566568,
          16.616616616616618,
          16.666666666666668,
          16.716716716716718,
          16.766766766766768,
          16.816816816816818,
          16.866866866866868,
          16.916916916916918,
          16.966966966966968,
          17.017017017017018,
          17.067067067067068,
          17.117117117117118,
          17.167167167167168,
          17.217217217217218,
          17.26726726726727,
          17.31731731731732,
          17.36736736736737,
          17.41741741741742,
          17.46746746746747,
          17.51751751751752,
          17.56756756756757,
          17.61761761761762,
          17.66766766766767,
          17.71771771771772,
          17.76776776776777,
          17.81781781781782,
          17.86786786786787,
          17.91791791791792,
          17.96796796796797,
          18.01801801801802,
          18.06806806806807,
          18.11811811811812,
          18.16816816816817,
          18.21821821821822,
          18.26826826826827,
          18.31831831831832,
          18.36836836836837,
          18.41841841841842,
          18.46846846846847,
          18.51851851851852,
          18.56856856856857,
          18.61861861861862,
          18.66866866866867,
          18.71871871871872,
          18.76876876876877,
          18.81881881881882,
          18.86886886886887,
          18.91891891891892,
          18.96896896896897,
          19.01901901901902,
          19.06906906906907,
          19.11911911911912,
          19.16916916916917,
          19.21921921921922,
          19.26926926926927,
          19.31931931931932,
          19.36936936936937,
          19.41941941941942,
          19.46946946946947,
          19.51951951951952,
          19.56956956956957,
          19.61961961961962,
          19.66966966966967,
          19.71971971971972,
          19.76976976976977,
          19.81981981981982,
          19.86986986986987,
          19.91991991991992,
          19.96996996996997,
          20.02002002002002,
          20.07007007007007,
          20.12012012012012,
          20.17017017017017,
          20.22022022022022,
          20.27027027027027,
          20.32032032032032,
          20.37037037037037,
          20.42042042042042,
          20.47047047047047,
          20.52052052052052,
          20.57057057057057,
          20.62062062062062,
          20.67067067067067,
          20.72072072072072,
          20.77077077077077,
          20.82082082082082,
          20.87087087087087,
          20.92092092092092,
          20.97097097097097,
          21.02102102102102,
          21.07107107107107,
          21.12112112112112,
          21.17117117117117,
          21.22122122122122,
          21.27127127127127,
          21.32132132132132,
          21.371371371371374,
          21.421421421421424,
          21.471471471471475,
          21.521521521521525,
          21.571571571571575,
          21.621621621621625,
          21.671671671671675,
          21.721721721721725,
          21.771771771771775,
          21.821821821821825,
          21.871871871871875,
          21.921921921921925,
          21.971971971971975,
          22.022022022022025,
          22.072072072072075,
          22.122122122122125,
          22.172172172172175,
          22.222222222222225,
          22.272272272272275,
          22.322322322322325,
          22.372372372372375,
          22.422422422422425,
          22.472472472472475,
          22.522522522522525,
          22.572572572572575,
          22.622622622622625,
          22.672672672672675,
          22.722722722722725,
          22.772772772772775,
          22.822822822822825,
          22.872872872872875,
          22.922922922922925,
          22.972972972972975,
          23.023023023023026,
          23.073073073073076,
          23.123123123123126,
          23.173173173173176,
          23.223223223223226,
          23.273273273273276,
          23.323323323323326,
          23.373373373373376,
          23.423423423423426,
          23.473473473473476,
          23.523523523523526,
          23.573573573573576,
          23.623623623623626,
          23.673673673673676,
          23.723723723723726,
          23.773773773773776,
          23.823823823823826,
          23.873873873873876,
          23.923923923923926,
          23.973973973973976,
          24.024024024024026,
          24.074074074074076,
          24.124124124124126,
          24.174174174174176,
          24.224224224224226,
          24.274274274274276,
          24.324324324324326,
          24.374374374374376,
          24.424424424424426,
          24.474474474474476,
          24.524524524524526,
          24.574574574574577,
          24.624624624624627,
          24.674674674674677,
          24.724724724724727,
          24.774774774774777,
          24.824824824824827,
          24.874874874874877,
          24.924924924924927,
          24.974974974974977,
          25.025025025025027,
          25.075075075075077,
          25.125125125125127,
          25.175175175175177,
          25.225225225225227,
          25.275275275275277,
          25.325325325325327,
          25.375375375375377,
          25.425425425425427,
          25.475475475475477,
          25.525525525525527,
          25.575575575575577,
          25.625625625625627,
          25.675675675675677,
          25.725725725725727,
          25.775775775775777,
          25.825825825825827,
          25.875875875875877,
          25.925925925925927,
          25.975975975975977,
          26.026026026026027,
          26.076076076076077,
          26.126126126126128,
          26.176176176176178,
          26.226226226226228,
          26.276276276276278,
          26.326326326326328,
          26.376376376376378,
          26.426426426426428,
          26.476476476476478,
          26.526526526526528,
          26.576576576576578,
          26.626626626626628,
          26.676676676676678,
          26.726726726726728,
          26.776776776776778,
          26.826826826826828,
          26.876876876876878,
          26.926926926926928,
          26.976976976976978,
          27.027027027027028,
          27.077077077077078,
          27.127127127127128,
          27.177177177177178,
          27.227227227227228,
          27.27727727727728,
          27.32732732732733,
          27.37737737737738,
          27.42742742742743,
          27.47747747747748,
          27.52752752752753,
          27.57757757757758,
          27.62762762762763,
          27.67767767767768,
          27.72772772772773,
          27.77777777777778,
          27.82782782782783,
          27.87787787787788,
          27.92792792792793,
          27.97797797797798,
          28.02802802802803,
          28.07807807807808,
          28.12812812812813,
          28.17817817817818,
          28.22822822822823,
          28.27827827827828,
          28.32832832832833,
          28.37837837837838,
          28.42842842842843,
          28.47847847847848,
          28.52852852852853,
          28.57857857857858,
          28.62862862862863,
          28.67867867867868,
          28.72872872872873,
          28.77877877877878,
          28.82882882882883,
          28.87887887887888,
          28.92892892892893,
          28.97897897897898,
          29.02902902902903,
          29.07907907907908,
          29.12912912912913,
          29.17917917917918,
          29.22922922922923,
          29.27927927927928,
          29.32932932932933,
          29.37937937937938,
          29.42942942942943,
          29.47947947947948,
          29.52952952952953,
          29.57957957957958,
          29.62962962962963,
          29.67967967967968,
          29.72972972972973,
          29.77977977977978,
          29.82982982982983,
          29.87987987987988,
          29.929929929929934,
          29.979979979979984,
          30.030030030030034,
          30.080080080080084,
          30.130130130130134,
          30.180180180180184,
          30.230230230230234,
          30.280280280280284,
          30.330330330330334,
          30.380380380380384,
          30.430430430430434,
          30.480480480480484,
          30.530530530530534,
          30.580580580580584,
          30.630630630630634,
          30.680680680680684,
          30.730730730730734,
          30.780780780780784,
          30.830830830830834,
          30.880880880880884,
          30.930930930930934,
          30.980980980980984,
          31.031031031031034,
          31.081081081081084,
          31.131131131131134,
          31.181181181181184,
          31.231231231231234,
          31.281281281281284,
          31.331331331331334,
          31.381381381381384,
          31.431431431431434,
          31.481481481481485,
          31.531531531531535,
          31.581581581581585,
          31.631631631631635,
          31.681681681681685,
          31.731731731731735,
          31.781781781781785,
          31.831831831831835,
          31.881881881881885,
          31.931931931931935,
          31.981981981981985,
          32.032032032032035,
          32.08208208208208,
          32.132132132132135,
          32.18218218218218,
          32.232232232232235,
          32.28228228228228,
          32.332332332332335,
          32.38238238238238,
          32.432432432432435,
          32.48248248248248,
          32.532532532532535,
          32.58258258258258,
          32.632632632632635,
          32.68268268268268,
          32.732732732732735,
          32.78278278278278,
          32.832832832832835,
          32.88288288288288,
          32.932932932932935,
          32.98298298298298,
          33.033033033033036,
          33.08308308308308,
          33.133133133133136,
          33.18318318318318,
          33.233233233233236,
          33.28328328328328,
          33.333333333333336,
          33.38338338338338,
          33.433433433433436,
          33.48348348348348,
          33.533533533533536,
          33.58358358358358,
          33.633633633633636,
          33.68368368368368,
          33.733733733733736,
          33.78378378378378,
          33.833833833833836,
          33.88388388388388,
          33.933933933933936,
          33.98398398398398,
          34.034034034034036,
          34.08408408408408,
          34.134134134134136,
          34.18418418418419,
          34.234234234234236,
          34.28428428428429,
          34.334334334334336,
          34.38438438438439,
          34.434434434434436,
          34.48448448448449,
          34.53453453453454,
          34.58458458458459,
          34.63463463463464,
          34.68468468468469,
          34.73473473473474,
          34.78478478478479,
          34.83483483483484,
          34.88488488488489,
          34.93493493493494,
          34.98498498498499,
          35.03503503503504,
          35.08508508508509,
          35.13513513513514,
          35.18518518518519,
          35.23523523523524,
          35.28528528528529,
          35.33533533533534,
          35.38538538538539,
          35.43543543543544,
          35.48548548548549,
          35.53553553553554,
          35.58558558558559,
          35.63563563563564,
          35.68568568568569,
          35.73573573573574,
          35.78578578578579,
          35.83583583583584,
          35.88588588588589,
          35.93593593593594,
          35.98598598598599,
          36.03603603603604,
          36.08608608608609,
          36.13613613613614,
          36.18618618618619,
          36.23623623623624,
          36.28628628628629,
          36.33633633633634,
          36.38638638638639,
          36.43643643643644,
          36.48648648648649,
          36.53653653653654,
          36.58658658658659,
          36.63663663663664,
          36.68668668668669,
          36.73673673673674,
          36.78678678678679,
          36.83683683683684,
          36.88688688688689,
          36.93693693693694,
          36.98698698698699,
          37.03703703703704,
          37.08708708708709,
          37.13713713713714,
          37.18718718718719,
          37.23723723723724,
          37.28728728728729,
          37.33733733733734,
          37.38738738738739,
          37.43743743743744,
          37.48748748748749,
          37.53753753753754,
          37.58758758758759,
          37.63763763763764,
          37.68768768768769,
          37.73773773773774,
          37.78778778778779,
          37.83783783783784,
          37.88788788788789,
          37.93793793793794,
          37.98798798798799,
          38.03803803803804,
          38.08808808808809,
          38.13813813813814,
          38.18818818818819,
          38.23823823823824,
          38.28828828828829,
          38.33833833833834,
          38.38838838838839,
          38.43843843843844,
          38.48848848848849,
          38.53853853853854,
          38.58858858858859,
          38.63863863863864,
          38.68868868868869,
          38.73873873873874,
          38.78878878878879,
          38.83883883883884,
          38.88888888888889,
          38.93893893893894,
          38.98898898898899,
          39.03903903903904,
          39.08908908908909,
          39.13913913913914,
          39.18918918918919,
          39.23923923923924,
          39.28928928928929,
          39.33933933933934,
          39.38938938938939,
          39.43943943943944,
          39.48948948948949,
          39.53953953953954,
          39.58958958958959,
          39.63963963963964,
          39.68968968968969,
          39.73973973973974,
          39.78978978978979,
          39.83983983983984,
          39.88988988988989,
          39.93993993993994,
          39.98998998998999,
          40.04004004004004,
          40.090090090090094,
          40.14014014014014,
          40.190190190190194,
          40.24024024024024,
          40.290290290290294,
          40.34034034034034,
          40.390390390390394,
          40.44044044044044,
          40.490490490490494,
          40.54054054054054,
          40.590590590590594,
          40.64064064064064,
          40.690690690690694,
          40.74074074074074,
          40.790790790790794,
          40.84084084084084,
          40.890890890890894,
          40.94094094094094,
          40.990990990990994,
          41.04104104104104,
          41.091091091091094,
          41.14114114114114,
          41.191191191191194,
          41.24124124124124,
          41.291291291291294,
          41.34134134134134,
          41.391391391391394,
          41.44144144144144,
          41.491491491491495,
          41.54154154154154,
          41.591591591591595,
          41.64164164164164,
          41.691691691691695,
          41.74174174174174,
          41.791791791791795,
          41.84184184184184,
          41.891891891891895,
          41.94194194194194,
          41.991991991991995,
          42.04204204204204,
          42.092092092092095,
          42.14214214214214,
          42.192192192192195,
          42.24224224224224,
          42.292292292292295,
          42.34234234234234,
          42.392392392392395,
          42.44244244244244,
          42.492492492492495,
          42.54254254254254,
          42.592592592592595,
          42.64264264264264,
          42.692692692692695,
          42.74274274274275,
          42.792792792792795,
          42.84284284284285,
          42.892892892892895,
          42.94294294294295,
          42.992992992992995,
          43.04304304304305,
          43.093093093093096,
          43.14314314314315,
          43.193193193193196,
          43.24324324324325,
          43.293293293293296,
          43.34334334334335,
          43.393393393393396,
          43.44344344344345,
          43.493493493493496,
          43.54354354354355,
          43.593593593593596,
          43.64364364364365,
          43.693693693693696,
          43.74374374374375,
          43.793793793793796,
          43.84384384384385,
          43.893893893893896,
          43.94394394394395,
          43.993993993993996,
          44.04404404404405,
          44.094094094094096,
          44.14414414414415,
          44.194194194194196,
          44.24424424424425,
          44.294294294294296,
          44.34434434434435,
          44.394394394394396,
          44.44444444444445,
          44.4944944944945,
          44.54454454454455,
          44.5945945945946,
          44.64464464464465,
          44.6946946946947,
          44.74474474474475,
          44.7947947947948,
          44.84484484484485,
          44.8948948948949,
          44.94494494494495,
          44.994994994995,
          45.04504504504505,
          45.0950950950951,
          45.14514514514515,
          45.1951951951952,
          45.24524524524525,
          45.2952952952953,
          45.34534534534535,
          45.3953953953954,
          45.44544544544545,
          45.4954954954955,
          45.54554554554555,
          45.5955955955956,
          45.64564564564565,
          45.6956956956957,
          45.74574574574575,
          45.7957957957958,
          45.84584584584585,
          45.8958958958959,
          45.94594594594595,
          45.995995995996,
          46.04604604604605,
          46.0960960960961,
          46.14614614614615,
          46.1961961961962,
          46.24624624624625,
          46.2962962962963,
          46.34634634634635,
          46.3963963963964,
          46.44644644644645,
          46.4964964964965,
          46.54654654654655,
          46.5965965965966,
          46.64664664664665,
          46.6966966966967,
          46.74674674674675,
          46.7967967967968,
          46.84684684684685,
          46.8968968968969,
          46.94694694694695,
          46.996996996997,
          47.04704704704705,
          47.0970970970971,
          47.14714714714715,
          47.1971971971972,
          47.24724724724725,
          47.2972972972973,
          47.34734734734735,
          47.3973973973974,
          47.44744744744745,
          47.4974974974975,
          47.54754754754755,
          47.5975975975976,
          47.64764764764765,
          47.6976976976977,
          47.74774774774775,
          47.7977977977978,
          47.84784784784785,
          47.8978978978979,
          47.94794794794795,
          47.997997997998,
          48.04804804804805,
          48.0980980980981,
          48.14814814814815,
          48.1981981981982,
          48.24824824824825,
          48.2982982982983,
          48.34834834834835,
          48.3983983983984,
          48.44844844844845,
          48.4984984984985,
          48.54854854854855,
          48.5985985985986,
          48.64864864864865,
          48.6986986986987,
          48.74874874874875,
          48.7987987987988,
          48.84884884884885,
          48.8988988988989,
          48.94894894894895,
          48.998998998999,
          49.04904904904905,
          49.0990990990991,
          49.14914914914915,
          49.1991991991992,
          49.24924924924925,
          49.2992992992993,
          49.34934934934935,
          49.3993993993994,
          49.44944944944945,
          49.4994994994995,
          49.54954954954955,
          49.5995995995996,
          49.64964964964965,
          49.6996996996997,
          49.74974974974975,
          49.7997997997998,
          49.84984984984985,
          49.8998998998999,
          49.94994994994995,
          50
         ],
         "y": [
          0,
          0.2213940876352153,
          0.3937728332306012,
          0.5279879437171937,
          0.6324886222707475,
          0.7138534684386764,
          0.777204618723677,
          0.8265301988906885,
          0.8649353872395468,
          0.8948378939534509,
          0.9181201624754244,
          0.9362478743998974,
          0.9503622180819379,
          0.9613517295219229,
          0.9699082281030958,
          0.976570368487538,
          0.9817575503798688,
          0.9857963208697491,
          0.9889409314518544,
          0.9913893438431663,
          0.9932956922069491,
          0.9947799863140173,
          0.9959356664814688,
          0.9968354858926493,
          0.9975360906062549,
          0.9980815855784989,
          0.9985063111890534,
          0.9988370050605638,
          0.9990944852641047,
          0.9992949608728985,
          0.9994510523671902,
          0.9995725861275156,
          0.999667213031857,
          0.9997408900990459,
          0.9997982554991649,
          0.9998429205388627,
          0.9998776970028475,
          0.999904774163317,
          0.9999258566005488,
          0.9999422715108245,
          0.9999550522570161,
          0.9999650034215652,
          0.9999727514571182,
          0.9999787841234089,
          0.9999834811930501,
          0.9999871383592436,
          0.9999899858504644,
          0.9999922029239643,
          0.9999939291504994,
          0.9999952732006858,
          0.9999963196861074,
          0.9999971344858438,
          0.999997768893736,
          0.9999982628474717,
          0.9999986474427709,
          0.9999989468909446,
          0.9999991800430631,
          0.999999361576681,
          0.9999995029198293,
          0.9999996129704402,
          0.9999996986564964,
          0.9999997653721665,
          0.9999998173173816,
          0.9999998577622332,
          0.9999998892528338,
          0.9999999137716017,
          0.9999999328620592,
          0.9999999477260024,
          0.9999999592991564,
          0.9999999683100825,
          0.9999999753260429,
          0.9999999807887111,
          0.9999999850419768,
          0.9999999883535947,
          0.9999999909320401,
          0.9999999929396327,
          0.9999999945027563,
          0.9999999957198136,
          0.9999999966674216,
          0.9999999974052347,
          0.9999999979797004,
          0.9999999984269828,
          0.9999999987752395,
          0.9999999990463943,
          0.9999999992575169,
          0.9999999994218983,
          0.9999999995498866,
          0.999999999649539,
          0.999999999727129,
          0.9999999997875411,
          0.9999999998345782,
          0.9999999998712016,
          0.9999999998997168,
          0.9999999999219189,
          0.9999999999392056,
          0.9999999999526651,
          0.9999999999631448,
          0.9999999999713043,
          0.9999999999776573,
          0.9999999999826039,
          0.9999999999864553,
          0.999999999989454,
          0.9999999999917888,
          0.9999999999936068,
          0.9999999999950222,
          0.9999999999961242,
          0.9999999999969823,
          0.9999999999976504,
          0.9999999999981706,
          0.9999999999985756,
          0.999999999998891,
          0.9999999999991365,
          0.9999999999993276,
          0.9999999999994765,
          0.9999999999995924,
          0.9999999999996827,
          0.9999999999997529,
          0.9999999999998076,
          0.9999999999998502,
          0.9999999999998834,
          0.9999999999999092,
          0.9999999999999293,
          0.9999999999999449,
          0.9999999999999571,
          0.9999999999999666,
          0.999999999999974,
          0.9999999999999798,
          0.9999999999999842,
          0.9999999999999878,
          0.9999999999999905,
          0.9999999999999926,
          0.9999999999999942,
          0.9999999999999954,
          0.9999999999999964,
          0.9999999999999972,
          0.9999999999999979,
          0.9999999999999983,
          0.9999999999999987,
          0.999999999999999,
          0.9999999999999992,
          0.9999999999999994,
          0.9999999999999996,
          0.9999999999999997,
          0.9999999999999997,
          0.9999999999999998,
          0.9999999999999998,
          0.9999999999999999,
          0.9999999999999999,
          0.9999999999999999,
          0.9999999999999999,
          1,
          1,
          1,
          1,
          1,
          1,
          1,
          1,
          1,
          1,
          1,
          1,
          1,
          1,
          1,
          1,
          1,
          1,
          1,
          1,
          1,
          1,
          1,
          1,
          1,
          1,
          1,
          1,
          1,
          1,
          1,
          1,
          1,
          1,
          1,
          1,
          1,
          1,
          1,
          1,
          1,
          1,
          1,
          1,
          1,
          1,
          1,
          1,
          1,
          1,
          1,
          1,
          1,
          1,
          1,
          1,
          1,
          1,
          1,
          1,
          1,
          1,
          1,
          1,
          1,
          1,
          1,
          1,
          1,
          1,
          1,
          1,
          1,
          1,
          1,
          1,
          1,
          1,
          1,
          1,
          1,
          1,
          1,
          1,
          1,
          1,
          1,
          1,
          1,
          1,
          1,
          1,
          1,
          1,
          1,
          1,
          1,
          1,
          1,
          1,
          1,
          1,
          1,
          1,
          1,
          1,
          1,
          1,
          1,
          1,
          1,
          1,
          1,
          1,
          1,
          1,
          1,
          1,
          1,
          1,
          1,
          1,
          1,
          1,
          1,
          1,
          1,
          1,
          1,
          1,
          1,
          1,
          1,
          1,
          1,
          1,
          1,
          1,
          1,
          1,
          1,
          1,
          1,
          1,
          1,
          1,
          1,
          1,
          1,
          1,
          1,
          1,
          1,
          1,
          1,
          1,
          1,
          1,
          1,
          1,
          1,
          1,
          1,
          1,
          1,
          1,
          1,
          1,
          1,
          1,
          1,
          1,
          1,
          1,
          1,
          1,
          1,
          1,
          1,
          1,
          1,
          1,
          1,
          1,
          1,
          1,
          1,
          1,
          1,
          1,
          1,
          1,
          1,
          1,
          1,
          1,
          1,
          1,
          1,
          1,
          1,
          1,
          1,
          1,
          1,
          1,
          1,
          1,
          1,
          1,
          1,
          1,
          1,
          1,
          1,
          1,
          1,
          1,
          1,
          1,
          1,
          1,
          1,
          1,
          1,
          1,
          1,
          1,
          1,
          1,
          1,
          1,
          1,
          1,
          1,
          1,
          1,
          1,
          1,
          1,
          1,
          1,
          1,
          1,
          1,
          1,
          1,
          1,
          1,
          1,
          1,
          1,
          1,
          1,
          1,
          1,
          1,
          1,
          1,
          1,
          1,
          1,
          1,
          1,
          1,
          1,
          1,
          1,
          1,
          1,
          1,
          1,
          1,
          1,
          1,
          1,
          1,
          1,
          1,
          1,
          1,
          1,
          1,
          1,
          1,
          1,
          1,
          1,
          1,
          1,
          1,
          1,
          1,
          1,
          1,
          1,
          1,
          1,
          1,
          1,
          1,
          1,
          1,
          1,
          1,
          1,
          1,
          1,
          1,
          1,
          1,
          1,
          1,
          1,
          1,
          1,
          1,
          1,
          1,
          1,
          1,
          1,
          1,
          1,
          1,
          1,
          1,
          1,
          1,
          1,
          1,
          1,
          1,
          1,
          1,
          1,
          1,
          1,
          1,
          1,
          1,
          1,
          1,
          1,
          1,
          1,
          1,
          1,
          1,
          1,
          1,
          1,
          1,
          1,
          1,
          1,
          1,
          1,
          1,
          1,
          1,
          1,
          1,
          1,
          1,
          1,
          1,
          1,
          1,
          1,
          1,
          1,
          1,
          1,
          1,
          1,
          1,
          1,
          1,
          1,
          1,
          1,
          1,
          1,
          1,
          1,
          1,
          1,
          1,
          1,
          1,
          1,
          1,
          1,
          1,
          1,
          1,
          1,
          1,
          1,
          1,
          1,
          1,
          1,
          1,
          1,
          1,
          1,
          1,
          1,
          1,
          1,
          1,
          1,
          1,
          1,
          1,
          1,
          1,
          1,
          1,
          1,
          1,
          1,
          1,
          1,
          1,
          1,
          1,
          1,
          1,
          1,
          1,
          1,
          1,
          1,
          1,
          1,
          1,
          1,
          1,
          1,
          1,
          1,
          1,
          1,
          1,
          1,
          1,
          1,
          1,
          1,
          1,
          1,
          1,
          1,
          1,
          1,
          1,
          1,
          1,
          1,
          1,
          1,
          1,
          1,
          1,
          1,
          1,
          1,
          1,
          1,
          1,
          1,
          1,
          1,
          1,
          1,
          1,
          1,
          1,
          1,
          1,
          1,
          1,
          1,
          1,
          1,
          1,
          1,
          1,
          1,
          1,
          1,
          1,
          1,
          1,
          1,
          1,
          1,
          1,
          1,
          1,
          1,
          1,
          1,
          1,
          1,
          1,
          1,
          1,
          1,
          1,
          1,
          1,
          1,
          1,
          1,
          1,
          1,
          1,
          1,
          1,
          1,
          1,
          1,
          1,
          1,
          1,
          1,
          1,
          1,
          1,
          1,
          1,
          1,
          1,
          1,
          1,
          1,
          1,
          1,
          1,
          1,
          1,
          1,
          1,
          1,
          1,
          1,
          1,
          1,
          1,
          1,
          1,
          1,
          1,
          1,
          1,
          1,
          1,
          1,
          1,
          1,
          1,
          1,
          1,
          1,
          1,
          1,
          1,
          1,
          1,
          1,
          1,
          1,
          1,
          1,
          1,
          1,
          1,
          1,
          1,
          1,
          1,
          1,
          1,
          1,
          1,
          1,
          1,
          1,
          1,
          1,
          1,
          1,
          1,
          1,
          1,
          1,
          1,
          1,
          1,
          1,
          1,
          1,
          1,
          1,
          1,
          1,
          1,
          1,
          1,
          1,
          1,
          1,
          1,
          1,
          1,
          1,
          1,
          1,
          1,
          1,
          1,
          1,
          1,
          1,
          1,
          1,
          1,
          1,
          1,
          1,
          1,
          1,
          1,
          1,
          1,
          1,
          1,
          1,
          1,
          1,
          1,
          1,
          1,
          1,
          1,
          1,
          1,
          1,
          1,
          1,
          1,
          1,
          1,
          1,
          1,
          1,
          1,
          1,
          1,
          1,
          1,
          1,
          1,
          1,
          1,
          1,
          1,
          1,
          1,
          1,
          1,
          1,
          1,
          1,
          1,
          1,
          1,
          1,
          1,
          1,
          1,
          1,
          1,
          1,
          1,
          1,
          1,
          1,
          1,
          1,
          1,
          1,
          1,
          1,
          1,
          1,
          1,
          1,
          1,
          1,
          1,
          1,
          1,
          1,
          1,
          1,
          1,
          1,
          1,
          1,
          1,
          1,
          1,
          1,
          1,
          1,
          1,
          1,
          1,
          1,
          1,
          1,
          1,
          1,
          1,
          1,
          1,
          1,
          1,
          1,
          1,
          1,
          1,
          1,
          1,
          1,
          1,
          1,
          1,
          1,
          1,
          1,
          1,
          1,
          1,
          1,
          1,
          1,
          1,
          1,
          1,
          1,
          1,
          1,
          1,
          1,
          1,
          1,
          1,
          1,
          1,
          1,
          1,
          1,
          1,
          1,
          1,
          1,
          1,
          1,
          1,
          1,
          1,
          1,
          1,
          1,
          1,
          1,
          1,
          1,
          1,
          1,
          1,
          1,
          1,
          1,
          1,
          1,
          1,
          1,
          1,
          1,
          1,
          1,
          1,
          1,
          1,
          1,
          1,
          1,
          1,
          1,
          1,
          1,
          1,
          1,
          1,
          1,
          1,
          1,
          1,
          1,
          1,
          1,
          1,
          1,
          1,
          1,
          1,
          1,
          1,
          1,
          1,
          1,
          1,
          1,
          1,
          1,
          1,
          1,
          1,
          1,
          1,
          1,
          1,
          1,
          1,
          1,
          1,
          1,
          1,
          1,
          1,
          1,
          1,
          1
         ]
        }
       ],
       "layout": {
        "template": {
         "data": {
          "bar": [
           {
            "error_x": {
             "color": "#2a3f5f"
            },
            "error_y": {
             "color": "#2a3f5f"
            },
            "marker": {
             "line": {
              "color": "#E5ECF6",
              "width": 0.5
             },
             "pattern": {
              "fillmode": "overlay",
              "size": 10,
              "solidity": 0.2
             }
            },
            "type": "bar"
           }
          ],
          "barpolar": [
           {
            "marker": {
             "line": {
              "color": "#E5ECF6",
              "width": 0.5
             },
             "pattern": {
              "fillmode": "overlay",
              "size": 10,
              "solidity": 0.2
             }
            },
            "type": "barpolar"
           }
          ],
          "carpet": [
           {
            "aaxis": {
             "endlinecolor": "#2a3f5f",
             "gridcolor": "white",
             "linecolor": "white",
             "minorgridcolor": "white",
             "startlinecolor": "#2a3f5f"
            },
            "baxis": {
             "endlinecolor": "#2a3f5f",
             "gridcolor": "white",
             "linecolor": "white",
             "minorgridcolor": "white",
             "startlinecolor": "#2a3f5f"
            },
            "type": "carpet"
           }
          ],
          "choropleth": [
           {
            "colorbar": {
             "outlinewidth": 0,
             "ticks": ""
            },
            "type": "choropleth"
           }
          ],
          "contour": [
           {
            "colorbar": {
             "outlinewidth": 0,
             "ticks": ""
            },
            "colorscale": [
             [
              0,
              "#0d0887"
             ],
             [
              0.1111111111111111,
              "#46039f"
             ],
             [
              0.2222222222222222,
              "#7201a8"
             ],
             [
              0.3333333333333333,
              "#9c179e"
             ],
             [
              0.4444444444444444,
              "#bd3786"
             ],
             [
              0.5555555555555556,
              "#d8576b"
             ],
             [
              0.6666666666666666,
              "#ed7953"
             ],
             [
              0.7777777777777778,
              "#fb9f3a"
             ],
             [
              0.8888888888888888,
              "#fdca26"
             ],
             [
              1,
              "#f0f921"
             ]
            ],
            "type": "contour"
           }
          ],
          "contourcarpet": [
           {
            "colorbar": {
             "outlinewidth": 0,
             "ticks": ""
            },
            "type": "contourcarpet"
           }
          ],
          "heatmap": [
           {
            "colorbar": {
             "outlinewidth": 0,
             "ticks": ""
            },
            "colorscale": [
             [
              0,
              "#0d0887"
             ],
             [
              0.1111111111111111,
              "#46039f"
             ],
             [
              0.2222222222222222,
              "#7201a8"
             ],
             [
              0.3333333333333333,
              "#9c179e"
             ],
             [
              0.4444444444444444,
              "#bd3786"
             ],
             [
              0.5555555555555556,
              "#d8576b"
             ],
             [
              0.6666666666666666,
              "#ed7953"
             ],
             [
              0.7777777777777778,
              "#fb9f3a"
             ],
             [
              0.8888888888888888,
              "#fdca26"
             ],
             [
              1,
              "#f0f921"
             ]
            ],
            "type": "heatmap"
           }
          ],
          "heatmapgl": [
           {
            "colorbar": {
             "outlinewidth": 0,
             "ticks": ""
            },
            "colorscale": [
             [
              0,
              "#0d0887"
             ],
             [
              0.1111111111111111,
              "#46039f"
             ],
             [
              0.2222222222222222,
              "#7201a8"
             ],
             [
              0.3333333333333333,
              "#9c179e"
             ],
             [
              0.4444444444444444,
              "#bd3786"
             ],
             [
              0.5555555555555556,
              "#d8576b"
             ],
             [
              0.6666666666666666,
              "#ed7953"
             ],
             [
              0.7777777777777778,
              "#fb9f3a"
             ],
             [
              0.8888888888888888,
              "#fdca26"
             ],
             [
              1,
              "#f0f921"
             ]
            ],
            "type": "heatmapgl"
           }
          ],
          "histogram": [
           {
            "marker": {
             "pattern": {
              "fillmode": "overlay",
              "size": 10,
              "solidity": 0.2
             }
            },
            "type": "histogram"
           }
          ],
          "histogram2d": [
           {
            "colorbar": {
             "outlinewidth": 0,
             "ticks": ""
            },
            "colorscale": [
             [
              0,
              "#0d0887"
             ],
             [
              0.1111111111111111,
              "#46039f"
             ],
             [
              0.2222222222222222,
              "#7201a8"
             ],
             [
              0.3333333333333333,
              "#9c179e"
             ],
             [
              0.4444444444444444,
              "#bd3786"
             ],
             [
              0.5555555555555556,
              "#d8576b"
             ],
             [
              0.6666666666666666,
              "#ed7953"
             ],
             [
              0.7777777777777778,
              "#fb9f3a"
             ],
             [
              0.8888888888888888,
              "#fdca26"
             ],
             [
              1,
              "#f0f921"
             ]
            ],
            "type": "histogram2d"
           }
          ],
          "histogram2dcontour": [
           {
            "colorbar": {
             "outlinewidth": 0,
             "ticks": ""
            },
            "colorscale": [
             [
              0,
              "#0d0887"
             ],
             [
              0.1111111111111111,
              "#46039f"
             ],
             [
              0.2222222222222222,
              "#7201a8"
             ],
             [
              0.3333333333333333,
              "#9c179e"
             ],
             [
              0.4444444444444444,
              "#bd3786"
             ],
             [
              0.5555555555555556,
              "#d8576b"
             ],
             [
              0.6666666666666666,
              "#ed7953"
             ],
             [
              0.7777777777777778,
              "#fb9f3a"
             ],
             [
              0.8888888888888888,
              "#fdca26"
             ],
             [
              1,
              "#f0f921"
             ]
            ],
            "type": "histogram2dcontour"
           }
          ],
          "mesh3d": [
           {
            "colorbar": {
             "outlinewidth": 0,
             "ticks": ""
            },
            "type": "mesh3d"
           }
          ],
          "parcoords": [
           {
            "line": {
             "colorbar": {
              "outlinewidth": 0,
              "ticks": ""
             }
            },
            "type": "parcoords"
           }
          ],
          "pie": [
           {
            "automargin": true,
            "type": "pie"
           }
          ],
          "scatter": [
           {
            "fillpattern": {
             "fillmode": "overlay",
             "size": 10,
             "solidity": 0.2
            },
            "type": "scatter"
           }
          ],
          "scatter3d": [
           {
            "line": {
             "colorbar": {
              "outlinewidth": 0,
              "ticks": ""
             }
            },
            "marker": {
             "colorbar": {
              "outlinewidth": 0,
              "ticks": ""
             }
            },
            "type": "scatter3d"
           }
          ],
          "scattercarpet": [
           {
            "marker": {
             "colorbar": {
              "outlinewidth": 0,
              "ticks": ""
             }
            },
            "type": "scattercarpet"
           }
          ],
          "scattergeo": [
           {
            "marker": {
             "colorbar": {
              "outlinewidth": 0,
              "ticks": ""
             }
            },
            "type": "scattergeo"
           }
          ],
          "scattergl": [
           {
            "marker": {
             "colorbar": {
              "outlinewidth": 0,
              "ticks": ""
             }
            },
            "type": "scattergl"
           }
          ],
          "scattermapbox": [
           {
            "marker": {
             "colorbar": {
              "outlinewidth": 0,
              "ticks": ""
             }
            },
            "type": "scattermapbox"
           }
          ],
          "scatterpolar": [
           {
            "marker": {
             "colorbar": {
              "outlinewidth": 0,
              "ticks": ""
             }
            },
            "type": "scatterpolar"
           }
          ],
          "scatterpolargl": [
           {
            "marker": {
             "colorbar": {
              "outlinewidth": 0,
              "ticks": ""
             }
            },
            "type": "scatterpolargl"
           }
          ],
          "scatterternary": [
           {
            "marker": {
             "colorbar": {
              "outlinewidth": 0,
              "ticks": ""
             }
            },
            "type": "scatterternary"
           }
          ],
          "surface": [
           {
            "colorbar": {
             "outlinewidth": 0,
             "ticks": ""
            },
            "colorscale": [
             [
              0,
              "#0d0887"
             ],
             [
              0.1111111111111111,
              "#46039f"
             ],
             [
              0.2222222222222222,
              "#7201a8"
             ],
             [
              0.3333333333333333,
              "#9c179e"
             ],
             [
              0.4444444444444444,
              "#bd3786"
             ],
             [
              0.5555555555555556,
              "#d8576b"
             ],
             [
              0.6666666666666666,
              "#ed7953"
             ],
             [
              0.7777777777777778,
              "#fb9f3a"
             ],
             [
              0.8888888888888888,
              "#fdca26"
             ],
             [
              1,
              "#f0f921"
             ]
            ],
            "type": "surface"
           }
          ],
          "table": [
           {
            "cells": {
             "fill": {
              "color": "#EBF0F8"
             },
             "line": {
              "color": "white"
             }
            },
            "header": {
             "fill": {
              "color": "#C8D4E3"
             },
             "line": {
              "color": "white"
             }
            },
            "type": "table"
           }
          ]
         },
         "layout": {
          "annotationdefaults": {
           "arrowcolor": "#2a3f5f",
           "arrowhead": 0,
           "arrowwidth": 1
          },
          "autotypenumbers": "strict",
          "coloraxis": {
           "colorbar": {
            "outlinewidth": 0,
            "ticks": ""
           }
          },
          "colorscale": {
           "diverging": [
            [
             0,
             "#8e0152"
            ],
            [
             0.1,
             "#c51b7d"
            ],
            [
             0.2,
             "#de77ae"
            ],
            [
             0.3,
             "#f1b6da"
            ],
            [
             0.4,
             "#fde0ef"
            ],
            [
             0.5,
             "#f7f7f7"
            ],
            [
             0.6,
             "#e6f5d0"
            ],
            [
             0.7,
             "#b8e186"
            ],
            [
             0.8,
             "#7fbc41"
            ],
            [
             0.9,
             "#4d9221"
            ],
            [
             1,
             "#276419"
            ]
           ],
           "sequential": [
            [
             0,
             "#0d0887"
            ],
            [
             0.1111111111111111,
             "#46039f"
            ],
            [
             0.2222222222222222,
             "#7201a8"
            ],
            [
             0.3333333333333333,
             "#9c179e"
            ],
            [
             0.4444444444444444,
             "#bd3786"
            ],
            [
             0.5555555555555556,
             "#d8576b"
            ],
            [
             0.6666666666666666,
             "#ed7953"
            ],
            [
             0.7777777777777778,
             "#fb9f3a"
            ],
            [
             0.8888888888888888,
             "#fdca26"
            ],
            [
             1,
             "#f0f921"
            ]
           ],
           "sequentialminus": [
            [
             0,
             "#0d0887"
            ],
            [
             0.1111111111111111,
             "#46039f"
            ],
            [
             0.2222222222222222,
             "#7201a8"
            ],
            [
             0.3333333333333333,
             "#9c179e"
            ],
            [
             0.4444444444444444,
             "#bd3786"
            ],
            [
             0.5555555555555556,
             "#d8576b"
            ],
            [
             0.6666666666666666,
             "#ed7953"
            ],
            [
             0.7777777777777778,
             "#fb9f3a"
            ],
            [
             0.8888888888888888,
             "#fdca26"
            ],
            [
             1,
             "#f0f921"
            ]
           ]
          },
          "colorway": [
           "#636efa",
           "#EF553B",
           "#00cc96",
           "#ab63fa",
           "#FFA15A",
           "#19d3f3",
           "#FF6692",
           "#B6E880",
           "#FF97FF",
           "#FECB52"
          ],
          "font": {
           "color": "#2a3f5f"
          },
          "geo": {
           "bgcolor": "white",
           "lakecolor": "white",
           "landcolor": "#E5ECF6",
           "showlakes": true,
           "showland": true,
           "subunitcolor": "white"
          },
          "hoverlabel": {
           "align": "left"
          },
          "hovermode": "closest",
          "mapbox": {
           "style": "light"
          },
          "paper_bgcolor": "white",
          "plot_bgcolor": "#E5ECF6",
          "polar": {
           "angularaxis": {
            "gridcolor": "white",
            "linecolor": "white",
            "ticks": ""
           },
           "bgcolor": "#E5ECF6",
           "radialaxis": {
            "gridcolor": "white",
            "linecolor": "white",
            "ticks": ""
           }
          },
          "scene": {
           "xaxis": {
            "backgroundcolor": "#E5ECF6",
            "gridcolor": "white",
            "gridwidth": 2,
            "linecolor": "white",
            "showbackground": true,
            "ticks": "",
            "zerolinecolor": "white"
           },
           "yaxis": {
            "backgroundcolor": "#E5ECF6",
            "gridcolor": "white",
            "gridwidth": 2,
            "linecolor": "white",
            "showbackground": true,
            "ticks": "",
            "zerolinecolor": "white"
           },
           "zaxis": {
            "backgroundcolor": "#E5ECF6",
            "gridcolor": "white",
            "gridwidth": 2,
            "linecolor": "white",
            "showbackground": true,
            "ticks": "",
            "zerolinecolor": "white"
           }
          },
          "shapedefaults": {
           "line": {
            "color": "#2a3f5f"
           }
          },
          "ternary": {
           "aaxis": {
            "gridcolor": "white",
            "linecolor": "white",
            "ticks": ""
           },
           "baxis": {
            "gridcolor": "white",
            "linecolor": "white",
            "ticks": ""
           },
           "bgcolor": "#E5ECF6",
           "caxis": {
            "gridcolor": "white",
            "linecolor": "white",
            "ticks": ""
           }
          },
          "title": {
           "x": 0.05
          },
          "xaxis": {
           "automargin": true,
           "gridcolor": "white",
           "linecolor": "white",
           "ticks": "",
           "title": {
            "standoff": 15
           },
           "zerolinecolor": "white",
           "zerolinewidth": 2
          },
          "yaxis": {
           "automargin": true,
           "gridcolor": "white",
           "linecolor": "white",
           "ticks": "",
           "title": {
            "standoff": 15
           },
           "zerolinecolor": "white",
           "zerolinewidth": 2
          }
         }
        }
       }
      },
      "text/html": [
       "<div>                            <div id=\"3657a698-ef42-4b0a-9524-b9f54301eb4e\" class=\"plotly-graph-div\" style=\"height:525px; width:100%;\"></div>            <script type=\"text/javascript\">                require([\"plotly\"], function(Plotly) {                    window.PLOTLYENV=window.PLOTLYENV || {};                                    if (document.getElementById(\"3657a698-ef42-4b0a-9524-b9f54301eb4e\")) {                    Plotly.newPlot(                        \"3657a698-ef42-4b0a-9524-b9f54301eb4e\",                        [{\"name\":\"Simulation\",\"y\":[0.0,0.030693069306930693,0.030693069306930693,0.030693069306930693,0.031683168316831684,0.031683168316831684,0.034653465346534656,0.030693069306930693,0.02574257425742574,0.024752475247524754,0.01782178217821782,0.040594059405940595,0.027722772277227723,0.028712871287128714,0.031683168316831684,0.028712871287128714,0.03861386138613861,0.02574257425742574,0.027722772277227723,0.02178217821782178,0.0297029702970297,0.033663366336633666,0.0297029702970297,0.027722772277227723,0.032673267326732675,0.02574257425742574,0.028712871287128714,0.019801980198019802,0.020792079207920793,0.02178217821782178,0.032673267326732675,0.028712871287128714,0.02178217821782178,0.02277227722772277,0.032673267326732675,0.020792079207920793,0.023762376237623763,0.02574257425742574,0.024752475247524754,0.028712871287128714,0.01485148514851485,0.031683168316831684,0.030693069306930693,0.028712871287128714,0.041584158415841586,0.02178217821782178,0.02178217821782178,0.019801980198019802,0.023762376237623763,0.019801980198019802],\"type\":\"bar\"},{\"mode\":\"lines\",\"name\":\"Exp Dist.\",\"x\":[0.0,0.05005005005005005,0.1001001001001001,0.15015015015015015,0.2002002002002002,0.2502502502502503,0.3003003003003003,0.3503503503503504,0.4004004004004004,0.45045045045045046,0.5005005005005005,0.5505505505505506,0.6006006006006006,0.6506506506506506,0.7007007007007008,0.7507507507507508,0.8008008008008008,0.8508508508508509,0.9009009009009009,0.9509509509509511,1.001001001001001,1.0510510510510511,1.1011011011011012,1.1511511511511512,1.2012012012012012,1.2512512512512513,1.3013013013013013,1.3513513513513515,1.4014014014014016,1.4514514514514516,1.5015015015015016,1.5515515515515517,1.6016016016016017,1.6516516516516517,1.7017017017017018,1.7517517517517518,1.8018018018018018,1.8518518518518519,1.9019019019019021,1.9519519519519521,2.002002002002002,2.052052052052052,2.1021021021021022,2.1521521521521523,2.2022022022022023,2.2522522522522523,2.3023023023023024,2.3523523523523524,2.4024024024024024,2.4524524524524525,2.5025025025025025,2.5525525525525525,2.6026026026026026,2.6526526526526526,2.702702702702703,2.752752752752753,2.802802802802803,2.852852852852853,2.902902902902903,2.9529529529529532,3.0030030030030033,3.0530530530530533,3.1031031031031033,3.1531531531531534,3.2032032032032034,3.2532532532532534,3.3033033033033035,3.3533533533533535,3.4034034034034035,3.4534534534534536,3.5035035035035036,3.5535535535535536,3.6036036036036037,3.6536536536536537,3.7037037037037037,3.753753753753754,3.8038038038038042,3.8538538538538543,3.9039039039039043,3.9539539539539543,4.004004004004004,4.054054054054054,4.104104104104104,4.1541541541541545,4.2042042042042045,4.2542542542542545,4.3043043043043046,4.354354354354355,4.404404404404405,4.454454454454455,4.504504504504505,4.554554554554555,4.604604604604605,4.654654654654655,4.704704704704705,4.754754754754755,4.804804804804805,4.854854854854855,4.904904904904905,4.954954954954955,5.005005005005005,5.055055055055055,5.105105105105105,5.155155155155155,5.205205205205205,5.255255255255255,5.305305305305305,5.355355355355356,5.405405405405406,5.455455455455456,5.505505505505506,5.555555555555556,5.605605605605606,5.655655655655656,5.705705705705706,5.755755755755756,5.805805805805806,5.855855855855856,5.9059059059059065,5.9559559559559565,6.0060060060060065,6.056056056056057,6.106106106106107,6.156156156156157,6.206206206206207,6.256256256256257,6.306306306306307,6.356356356356357,6.406406406406407,6.456456456456457,6.506506506506507,6.556556556556557,6.606606606606607,6.656656656656657,6.706706706706707,6.756756756756757,6.806806806806807,6.856856856856857,6.906906906906907,6.956956956956957,7.007007007007007,7.057057057057057,7.107107107107107,7.157157157157157,7.207207207207207,7.257257257257257,7.307307307307307,7.357357357357357,7.407407407407407,7.4574574574574575,7.507507507507508,7.557557557557558,7.6076076076076085,7.6576576576576585,7.7077077077077085,7.7577577577577586,7.807807807807809,7.857857857857859,7.907907907907909,7.957957957957959,8.008008008008009,8.058058058058059,8.108108108108109,8.158158158158159,8.208208208208209,8.258258258258259,8.308308308308309,8.358358358358359,8.408408408408409,8.458458458458459,8.508508508508509,8.558558558558559,8.608608608608609,8.65865865865866,8.70870870870871,8.75875875875876,8.80880880880881,8.85885885885886,8.90890890890891,8.95895895895896,9.00900900900901,9.05905905905906,9.10910910910911,9.15915915915916,9.20920920920921,9.25925925925926,9.30930930930931,9.35935935935936,9.40940940940941,9.45945945945946,9.50950950950951,9.55955955955956,9.60960960960961,9.65965965965966,9.70970970970971,9.75975975975976,9.80980980980981,9.85985985985986,9.90990990990991,9.95995995995996,10.01001001001001,10.06006006006006,10.11011011011011,10.16016016016016,10.21021021021021,10.26026026026026,10.31031031031031,10.36036036036036,10.41041041041041,10.46046046046046,10.51051051051051,10.56056056056056,10.61061061061061,10.66066066066066,10.710710710710712,10.760760760760762,10.810810810810812,10.860860860860862,10.910910910910912,10.960960960960962,11.011011011011012,11.061061061061062,11.111111111111112,11.161161161161163,11.211211211211213,11.261261261261263,11.311311311311313,11.361361361361363,11.411411411411413,11.461461461461463,11.511511511511513,11.561561561561563,11.611611611611613,11.661661661661663,11.711711711711713,11.761761761761763,11.811811811811813,11.861861861861863,11.911911911911913,11.961961961961963,12.012012012012013,12.062062062062063,12.112112112112113,12.162162162162163,12.212212212212213,12.262262262262263,12.312312312312313,12.362362362362363,12.412412412412413,12.462462462462463,12.512512512512513,12.562562562562563,12.612612612612613,12.662662662662663,12.712712712712714,12.762762762762764,12.812812812812814,12.862862862862864,12.912912912912914,12.962962962962964,13.013013013013014,13.063063063063064,13.113113113113114,13.163163163163164,13.213213213213214,13.263263263263264,13.313313313313314,13.363363363363364,13.413413413413414,13.463463463463464,13.513513513513514,13.563563563563564,13.613613613613614,13.663663663663664,13.713713713713714,13.763763763763764,13.813813813813814,13.863863863863864,13.913913913913914,13.963963963963964,14.014014014014014,14.064064064064064,14.114114114114114,14.164164164164164,14.214214214214214,14.264264264264265,14.314314314314315,14.364364364364365,14.414414414414415,14.464464464464465,14.514514514514515,14.564564564564565,14.614614614614615,14.664664664664665,14.714714714714715,14.764764764764765,14.814814814814815,14.864864864864865,14.914914914914915,14.964964964964967,15.015015015015017,15.065065065065067,15.115115115115117,15.165165165165167,15.215215215215217,15.265265265265267,15.315315315315317,15.365365365365367,15.415415415415417,15.465465465465467,15.515515515515517,15.565565565565567,15.615615615615617,15.665665665665667,15.715715715715717,15.765765765765767,15.815815815815817,15.865865865865867,15.915915915915917,15.965965965965967,16.016016016016017,16.066066066066067,16.116116116116117,16.166166166166168,16.216216216216218,16.266266266266268,16.316316316316318,16.366366366366368,16.416416416416418,16.466466466466468,16.516516516516518,16.566566566566568,16.616616616616618,16.666666666666668,16.716716716716718,16.766766766766768,16.816816816816818,16.866866866866868,16.916916916916918,16.966966966966968,17.017017017017018,17.067067067067068,17.117117117117118,17.167167167167168,17.217217217217218,17.26726726726727,17.31731731731732,17.36736736736737,17.41741741741742,17.46746746746747,17.51751751751752,17.56756756756757,17.61761761761762,17.66766766766767,17.71771771771772,17.76776776776777,17.81781781781782,17.86786786786787,17.91791791791792,17.96796796796797,18.01801801801802,18.06806806806807,18.11811811811812,18.16816816816817,18.21821821821822,18.26826826826827,18.31831831831832,18.36836836836837,18.41841841841842,18.46846846846847,18.51851851851852,18.56856856856857,18.61861861861862,18.66866866866867,18.71871871871872,18.76876876876877,18.81881881881882,18.86886886886887,18.91891891891892,18.96896896896897,19.01901901901902,19.06906906906907,19.11911911911912,19.16916916916917,19.21921921921922,19.26926926926927,19.31931931931932,19.36936936936937,19.41941941941942,19.46946946946947,19.51951951951952,19.56956956956957,19.61961961961962,19.66966966966967,19.71971971971972,19.76976976976977,19.81981981981982,19.86986986986987,19.91991991991992,19.96996996996997,20.02002002002002,20.07007007007007,20.12012012012012,20.17017017017017,20.22022022022022,20.27027027027027,20.32032032032032,20.37037037037037,20.42042042042042,20.47047047047047,20.52052052052052,20.57057057057057,20.62062062062062,20.67067067067067,20.72072072072072,20.77077077077077,20.82082082082082,20.87087087087087,20.92092092092092,20.97097097097097,21.02102102102102,21.07107107107107,21.12112112112112,21.17117117117117,21.22122122122122,21.27127127127127,21.32132132132132,21.371371371371374,21.421421421421424,21.471471471471475,21.521521521521525,21.571571571571575,21.621621621621625,21.671671671671675,21.721721721721725,21.771771771771775,21.821821821821825,21.871871871871875,21.921921921921925,21.971971971971975,22.022022022022025,22.072072072072075,22.122122122122125,22.172172172172175,22.222222222222225,22.272272272272275,22.322322322322325,22.372372372372375,22.422422422422425,22.472472472472475,22.522522522522525,22.572572572572575,22.622622622622625,22.672672672672675,22.722722722722725,22.772772772772775,22.822822822822825,22.872872872872875,22.922922922922925,22.972972972972975,23.023023023023026,23.073073073073076,23.123123123123126,23.173173173173176,23.223223223223226,23.273273273273276,23.323323323323326,23.373373373373376,23.423423423423426,23.473473473473476,23.523523523523526,23.573573573573576,23.623623623623626,23.673673673673676,23.723723723723726,23.773773773773776,23.823823823823826,23.873873873873876,23.923923923923926,23.973973973973976,24.024024024024026,24.074074074074076,24.124124124124126,24.174174174174176,24.224224224224226,24.274274274274276,24.324324324324326,24.374374374374376,24.424424424424426,24.474474474474476,24.524524524524526,24.574574574574577,24.624624624624627,24.674674674674677,24.724724724724727,24.774774774774777,24.824824824824827,24.874874874874877,24.924924924924927,24.974974974974977,25.025025025025027,25.075075075075077,25.125125125125127,25.175175175175177,25.225225225225227,25.275275275275277,25.325325325325327,25.375375375375377,25.425425425425427,25.475475475475477,25.525525525525527,25.575575575575577,25.625625625625627,25.675675675675677,25.725725725725727,25.775775775775777,25.825825825825827,25.875875875875877,25.925925925925927,25.975975975975977,26.026026026026027,26.076076076076077,26.126126126126128,26.176176176176178,26.226226226226228,26.276276276276278,26.326326326326328,26.376376376376378,26.426426426426428,26.476476476476478,26.526526526526528,26.576576576576578,26.626626626626628,26.676676676676678,26.726726726726728,26.776776776776778,26.826826826826828,26.876876876876878,26.926926926926928,26.976976976976978,27.027027027027028,27.077077077077078,27.127127127127128,27.177177177177178,27.227227227227228,27.27727727727728,27.32732732732733,27.37737737737738,27.42742742742743,27.47747747747748,27.52752752752753,27.57757757757758,27.62762762762763,27.67767767767768,27.72772772772773,27.77777777777778,27.82782782782783,27.87787787787788,27.92792792792793,27.97797797797798,28.02802802802803,28.07807807807808,28.12812812812813,28.17817817817818,28.22822822822823,28.27827827827828,28.32832832832833,28.37837837837838,28.42842842842843,28.47847847847848,28.52852852852853,28.57857857857858,28.62862862862863,28.67867867867868,28.72872872872873,28.77877877877878,28.82882882882883,28.87887887887888,28.92892892892893,28.97897897897898,29.02902902902903,29.07907907907908,29.12912912912913,29.17917917917918,29.22922922922923,29.27927927927928,29.32932932932933,29.37937937937938,29.42942942942943,29.47947947947948,29.52952952952953,29.57957957957958,29.62962962962963,29.67967967967968,29.72972972972973,29.77977977977978,29.82982982982983,29.87987987987988,29.929929929929934,29.979979979979984,30.030030030030034,30.080080080080084,30.130130130130134,30.180180180180184,30.230230230230234,30.280280280280284,30.330330330330334,30.380380380380384,30.430430430430434,30.480480480480484,30.530530530530534,30.580580580580584,30.630630630630634,30.680680680680684,30.730730730730734,30.780780780780784,30.830830830830834,30.880880880880884,30.930930930930934,30.980980980980984,31.031031031031034,31.081081081081084,31.131131131131134,31.181181181181184,31.231231231231234,31.281281281281284,31.331331331331334,31.381381381381384,31.431431431431434,31.481481481481485,31.531531531531535,31.581581581581585,31.631631631631635,31.681681681681685,31.731731731731735,31.781781781781785,31.831831831831835,31.881881881881885,31.931931931931935,31.981981981981985,32.032032032032035,32.08208208208208,32.132132132132135,32.18218218218218,32.232232232232235,32.28228228228228,32.332332332332335,32.38238238238238,32.432432432432435,32.48248248248248,32.532532532532535,32.58258258258258,32.632632632632635,32.68268268268268,32.732732732732735,32.78278278278278,32.832832832832835,32.88288288288288,32.932932932932935,32.98298298298298,33.033033033033036,33.08308308308308,33.133133133133136,33.18318318318318,33.233233233233236,33.28328328328328,33.333333333333336,33.38338338338338,33.433433433433436,33.48348348348348,33.533533533533536,33.58358358358358,33.633633633633636,33.68368368368368,33.733733733733736,33.78378378378378,33.833833833833836,33.88388388388388,33.933933933933936,33.98398398398398,34.034034034034036,34.08408408408408,34.134134134134136,34.18418418418419,34.234234234234236,34.28428428428429,34.334334334334336,34.38438438438439,34.434434434434436,34.48448448448449,34.53453453453454,34.58458458458459,34.63463463463464,34.68468468468469,34.73473473473474,34.78478478478479,34.83483483483484,34.88488488488489,34.93493493493494,34.98498498498499,35.03503503503504,35.08508508508509,35.13513513513514,35.18518518518519,35.23523523523524,35.28528528528529,35.33533533533534,35.38538538538539,35.43543543543544,35.48548548548549,35.53553553553554,35.58558558558559,35.63563563563564,35.68568568568569,35.73573573573574,35.78578578578579,35.83583583583584,35.88588588588589,35.93593593593594,35.98598598598599,36.03603603603604,36.08608608608609,36.13613613613614,36.18618618618619,36.23623623623624,36.28628628628629,36.33633633633634,36.38638638638639,36.43643643643644,36.48648648648649,36.53653653653654,36.58658658658659,36.63663663663664,36.68668668668669,36.73673673673674,36.78678678678679,36.83683683683684,36.88688688688689,36.93693693693694,36.98698698698699,37.03703703703704,37.08708708708709,37.13713713713714,37.18718718718719,37.23723723723724,37.28728728728729,37.33733733733734,37.38738738738739,37.43743743743744,37.48748748748749,37.53753753753754,37.58758758758759,37.63763763763764,37.68768768768769,37.73773773773774,37.78778778778779,37.83783783783784,37.88788788788789,37.93793793793794,37.98798798798799,38.03803803803804,38.08808808808809,38.13813813813814,38.18818818818819,38.23823823823824,38.28828828828829,38.33833833833834,38.38838838838839,38.43843843843844,38.48848848848849,38.53853853853854,38.58858858858859,38.63863863863864,38.68868868868869,38.73873873873874,38.78878878878879,38.83883883883884,38.88888888888889,38.93893893893894,38.98898898898899,39.03903903903904,39.08908908908909,39.13913913913914,39.18918918918919,39.23923923923924,39.28928928928929,39.33933933933934,39.38938938938939,39.43943943943944,39.48948948948949,39.53953953953954,39.58958958958959,39.63963963963964,39.68968968968969,39.73973973973974,39.78978978978979,39.83983983983984,39.88988988988989,39.93993993993994,39.98998998998999,40.04004004004004,40.090090090090094,40.14014014014014,40.190190190190194,40.24024024024024,40.290290290290294,40.34034034034034,40.390390390390394,40.44044044044044,40.490490490490494,40.54054054054054,40.590590590590594,40.64064064064064,40.690690690690694,40.74074074074074,40.790790790790794,40.84084084084084,40.890890890890894,40.94094094094094,40.990990990990994,41.04104104104104,41.091091091091094,41.14114114114114,41.191191191191194,41.24124124124124,41.291291291291294,41.34134134134134,41.391391391391394,41.44144144144144,41.491491491491495,41.54154154154154,41.591591591591595,41.64164164164164,41.691691691691695,41.74174174174174,41.791791791791795,41.84184184184184,41.891891891891895,41.94194194194194,41.991991991991995,42.04204204204204,42.092092092092095,42.14214214214214,42.192192192192195,42.24224224224224,42.292292292292295,42.34234234234234,42.392392392392395,42.44244244244244,42.492492492492495,42.54254254254254,42.592592592592595,42.64264264264264,42.692692692692695,42.74274274274275,42.792792792792795,42.84284284284285,42.892892892892895,42.94294294294295,42.992992992992995,43.04304304304305,43.093093093093096,43.14314314314315,43.193193193193196,43.24324324324325,43.293293293293296,43.34334334334335,43.393393393393396,43.44344344344345,43.493493493493496,43.54354354354355,43.593593593593596,43.64364364364365,43.693693693693696,43.74374374374375,43.793793793793796,43.84384384384385,43.893893893893896,43.94394394394395,43.993993993993996,44.04404404404405,44.094094094094096,44.14414414414415,44.194194194194196,44.24424424424425,44.294294294294296,44.34434434434435,44.394394394394396,44.44444444444445,44.4944944944945,44.54454454454455,44.5945945945946,44.64464464464465,44.6946946946947,44.74474474474475,44.7947947947948,44.84484484484485,44.8948948948949,44.94494494494495,44.994994994995,45.04504504504505,45.0950950950951,45.14514514514515,45.1951951951952,45.24524524524525,45.2952952952953,45.34534534534535,45.3953953953954,45.44544544544545,45.4954954954955,45.54554554554555,45.5955955955956,45.64564564564565,45.6956956956957,45.74574574574575,45.7957957957958,45.84584584584585,45.8958958958959,45.94594594594595,45.995995995996,46.04604604604605,46.0960960960961,46.14614614614615,46.1961961961962,46.24624624624625,46.2962962962963,46.34634634634635,46.3963963963964,46.44644644644645,46.4964964964965,46.54654654654655,46.5965965965966,46.64664664664665,46.6966966966967,46.74674674674675,46.7967967967968,46.84684684684685,46.8968968968969,46.94694694694695,46.996996996997,47.04704704704705,47.0970970970971,47.14714714714715,47.1971971971972,47.24724724724725,47.2972972972973,47.34734734734735,47.3973973973974,47.44744744744745,47.4974974974975,47.54754754754755,47.5975975975976,47.64764764764765,47.6976976976977,47.74774774774775,47.7977977977978,47.84784784784785,47.8978978978979,47.94794794794795,47.997997997998,48.04804804804805,48.0980980980981,48.14814814814815,48.1981981981982,48.24824824824825,48.2982982982983,48.34834834834835,48.3983983983984,48.44844844844845,48.4984984984985,48.54854854854855,48.5985985985986,48.64864864864865,48.6986986986987,48.74874874874875,48.7987987987988,48.84884884884885,48.8988988988989,48.94894894894895,48.998998998999,49.04904904904905,49.0990990990991,49.14914914914915,49.1991991991992,49.24924924924925,49.2992992992993,49.34934934934935,49.3993993993994,49.44944944944945,49.4994994994995,49.54954954954955,49.5995995995996,49.64964964964965,49.6996996996997,49.74974974974975,49.7997997997998,49.84984984984985,49.8998998998999,49.94994994994995,50.0],\"y\":[0.0,0.2213940876352153,0.3937728332306012,0.5279879437171937,0.6324886222707475,0.7138534684386764,0.777204618723677,0.8265301988906885,0.8649353872395468,0.8948378939534509,0.9181201624754244,0.9362478743998974,0.9503622180819379,0.9613517295219229,0.9699082281030958,0.976570368487538,0.9817575503798688,0.9857963208697491,0.9889409314518544,0.9913893438431663,0.9932956922069491,0.9947799863140173,0.9959356664814688,0.9968354858926493,0.9975360906062549,0.9980815855784989,0.9985063111890534,0.9988370050605638,0.9990944852641047,0.9992949608728985,0.9994510523671902,0.9995725861275156,0.999667213031857,0.9997408900990459,0.9997982554991649,0.9998429205388627,0.9998776970028475,0.999904774163317,0.9999258566005488,0.9999422715108245,0.9999550522570161,0.9999650034215652,0.9999727514571182,0.9999787841234089,0.9999834811930501,0.9999871383592436,0.9999899858504644,0.9999922029239643,0.9999939291504994,0.9999952732006858,0.9999963196861074,0.9999971344858438,0.999997768893736,0.9999982628474717,0.9999986474427709,0.9999989468909446,0.9999991800430631,0.999999361576681,0.9999995029198293,0.9999996129704402,0.9999996986564964,0.9999997653721665,0.9999998173173816,0.9999998577622332,0.9999998892528338,0.9999999137716017,0.9999999328620592,0.9999999477260024,0.9999999592991564,0.9999999683100825,0.9999999753260429,0.9999999807887111,0.9999999850419768,0.9999999883535947,0.9999999909320401,0.9999999929396327,0.9999999945027563,0.9999999957198136,0.9999999966674216,0.9999999974052347,0.9999999979797004,0.9999999984269828,0.9999999987752395,0.9999999990463943,0.9999999992575169,0.9999999994218983,0.9999999995498866,0.999999999649539,0.999999999727129,0.9999999997875411,0.9999999998345782,0.9999999998712016,0.9999999998997168,0.9999999999219189,0.9999999999392056,0.9999999999526651,0.9999999999631448,0.9999999999713043,0.9999999999776573,0.9999999999826039,0.9999999999864553,0.999999999989454,0.9999999999917888,0.9999999999936068,0.9999999999950222,0.9999999999961242,0.9999999999969823,0.9999999999976504,0.9999999999981706,0.9999999999985756,0.999999999998891,0.9999999999991365,0.9999999999993276,0.9999999999994765,0.9999999999995924,0.9999999999996827,0.9999999999997529,0.9999999999998076,0.9999999999998502,0.9999999999998834,0.9999999999999092,0.9999999999999293,0.9999999999999449,0.9999999999999571,0.9999999999999666,0.999999999999974,0.9999999999999798,0.9999999999999842,0.9999999999999878,0.9999999999999905,0.9999999999999926,0.9999999999999942,0.9999999999999954,0.9999999999999964,0.9999999999999972,0.9999999999999979,0.9999999999999983,0.9999999999999987,0.999999999999999,0.9999999999999992,0.9999999999999994,0.9999999999999996,0.9999999999999997,0.9999999999999997,0.9999999999999998,0.9999999999999998,0.9999999999999999,0.9999999999999999,0.9999999999999999,0.9999999999999999,1.0,1.0,1.0,1.0,1.0,1.0,1.0,1.0,1.0,1.0,1.0,1.0,1.0,1.0,1.0,1.0,1.0,1.0,1.0,1.0,1.0,1.0,1.0,1.0,1.0,1.0,1.0,1.0,1.0,1.0,1.0,1.0,1.0,1.0,1.0,1.0,1.0,1.0,1.0,1.0,1.0,1.0,1.0,1.0,1.0,1.0,1.0,1.0,1.0,1.0,1.0,1.0,1.0,1.0,1.0,1.0,1.0,1.0,1.0,1.0,1.0,1.0,1.0,1.0,1.0,1.0,1.0,1.0,1.0,1.0,1.0,1.0,1.0,1.0,1.0,1.0,1.0,1.0,1.0,1.0,1.0,1.0,1.0,1.0,1.0,1.0,1.0,1.0,1.0,1.0,1.0,1.0,1.0,1.0,1.0,1.0,1.0,1.0,1.0,1.0,1.0,1.0,1.0,1.0,1.0,1.0,1.0,1.0,1.0,1.0,1.0,1.0,1.0,1.0,1.0,1.0,1.0,1.0,1.0,1.0,1.0,1.0,1.0,1.0,1.0,1.0,1.0,1.0,1.0,1.0,1.0,1.0,1.0,1.0,1.0,1.0,1.0,1.0,1.0,1.0,1.0,1.0,1.0,1.0,1.0,1.0,1.0,1.0,1.0,1.0,1.0,1.0,1.0,1.0,1.0,1.0,1.0,1.0,1.0,1.0,1.0,1.0,1.0,1.0,1.0,1.0,1.0,1.0,1.0,1.0,1.0,1.0,1.0,1.0,1.0,1.0,1.0,1.0,1.0,1.0,1.0,1.0,1.0,1.0,1.0,1.0,1.0,1.0,1.0,1.0,1.0,1.0,1.0,1.0,1.0,1.0,1.0,1.0,1.0,1.0,1.0,1.0,1.0,1.0,1.0,1.0,1.0,1.0,1.0,1.0,1.0,1.0,1.0,1.0,1.0,1.0,1.0,1.0,1.0,1.0,1.0,1.0,1.0,1.0,1.0,1.0,1.0,1.0,1.0,1.0,1.0,1.0,1.0,1.0,1.0,1.0,1.0,1.0,1.0,1.0,1.0,1.0,1.0,1.0,1.0,1.0,1.0,1.0,1.0,1.0,1.0,1.0,1.0,1.0,1.0,1.0,1.0,1.0,1.0,1.0,1.0,1.0,1.0,1.0,1.0,1.0,1.0,1.0,1.0,1.0,1.0,1.0,1.0,1.0,1.0,1.0,1.0,1.0,1.0,1.0,1.0,1.0,1.0,1.0,1.0,1.0,1.0,1.0,1.0,1.0,1.0,1.0,1.0,1.0,1.0,1.0,1.0,1.0,1.0,1.0,1.0,1.0,1.0,1.0,1.0,1.0,1.0,1.0,1.0,1.0,1.0,1.0,1.0,1.0,1.0,1.0,1.0,1.0,1.0,1.0,1.0,1.0,1.0,1.0,1.0,1.0,1.0,1.0,1.0,1.0,1.0,1.0,1.0,1.0,1.0,1.0,1.0,1.0,1.0,1.0,1.0,1.0,1.0,1.0,1.0,1.0,1.0,1.0,1.0,1.0,1.0,1.0,1.0,1.0,1.0,1.0,1.0,1.0,1.0,1.0,1.0,1.0,1.0,1.0,1.0,1.0,1.0,1.0,1.0,1.0,1.0,1.0,1.0,1.0,1.0,1.0,1.0,1.0,1.0,1.0,1.0,1.0,1.0,1.0,1.0,1.0,1.0,1.0,1.0,1.0,1.0,1.0,1.0,1.0,1.0,1.0,1.0,1.0,1.0,1.0,1.0,1.0,1.0,1.0,1.0,1.0,1.0,1.0,1.0,1.0,1.0,1.0,1.0,1.0,1.0,1.0,1.0,1.0,1.0,1.0,1.0,1.0,1.0,1.0,1.0,1.0,1.0,1.0,1.0,1.0,1.0,1.0,1.0,1.0,1.0,1.0,1.0,1.0,1.0,1.0,1.0,1.0,1.0,1.0,1.0,1.0,1.0,1.0,1.0,1.0,1.0,1.0,1.0,1.0,1.0,1.0,1.0,1.0,1.0,1.0,1.0,1.0,1.0,1.0,1.0,1.0,1.0,1.0,1.0,1.0,1.0,1.0,1.0,1.0,1.0,1.0,1.0,1.0,1.0,1.0,1.0,1.0,1.0,1.0,1.0,1.0,1.0,1.0,1.0,1.0,1.0,1.0,1.0,1.0,1.0,1.0,1.0,1.0,1.0,1.0,1.0,1.0,1.0,1.0,1.0,1.0,1.0,1.0,1.0,1.0,1.0,1.0,1.0,1.0,1.0,1.0,1.0,1.0,1.0,1.0,1.0,1.0,1.0,1.0,1.0,1.0,1.0,1.0,1.0,1.0,1.0,1.0,1.0,1.0,1.0,1.0,1.0,1.0,1.0,1.0,1.0,1.0,1.0,1.0,1.0,1.0,1.0,1.0,1.0,1.0,1.0,1.0,1.0,1.0,1.0,1.0,1.0,1.0,1.0,1.0,1.0,1.0,1.0,1.0,1.0,1.0,1.0,1.0,1.0,1.0,1.0,1.0,1.0,1.0,1.0,1.0,1.0,1.0,1.0,1.0,1.0,1.0,1.0,1.0,1.0,1.0,1.0,1.0,1.0,1.0,1.0,1.0,1.0,1.0,1.0,1.0,1.0,1.0,1.0,1.0,1.0,1.0,1.0,1.0,1.0,1.0,1.0,1.0,1.0,1.0,1.0,1.0,1.0,1.0,1.0,1.0,1.0,1.0,1.0,1.0,1.0,1.0,1.0,1.0,1.0,1.0,1.0,1.0,1.0,1.0,1.0,1.0,1.0,1.0,1.0,1.0,1.0,1.0,1.0,1.0,1.0,1.0,1.0,1.0,1.0,1.0,1.0,1.0,1.0,1.0,1.0,1.0,1.0,1.0,1.0,1.0,1.0,1.0,1.0,1.0,1.0,1.0,1.0,1.0,1.0,1.0,1.0,1.0,1.0,1.0,1.0,1.0,1.0,1.0,1.0,1.0,1.0,1.0,1.0,1.0,1.0,1.0,1.0,1.0,1.0,1.0,1.0,1.0,1.0,1.0,1.0,1.0,1.0,1.0,1.0,1.0,1.0,1.0,1.0,1.0,1.0,1.0,1.0,1.0,1.0,1.0,1.0,1.0,1.0,1.0,1.0,1.0,1.0,1.0,1.0,1.0,1.0,1.0,1.0,1.0,1.0,1.0,1.0,1.0,1.0,1.0,1.0,1.0,1.0,1.0,1.0,1.0,1.0,1.0,1.0,1.0,1.0,1.0,1.0,1.0,1.0,1.0,1.0,1.0,1.0,1.0,1.0,1.0,1.0,1.0,1.0,1.0,1.0,1.0,1.0,1.0,1.0,1.0,1.0,1.0,1.0,1.0,1.0,1.0,1.0,1.0,1.0,1.0,1.0,1.0,1.0,1.0,1.0,1.0,1.0,1.0,1.0,1.0,1.0,1.0,1.0,1.0,1.0,1.0,1.0,1.0,1.0,1.0,1.0,1.0,1.0,1.0,1.0,1.0,1.0,1.0,1.0,1.0,1.0,1.0,1.0,1.0,1.0,1.0,1.0,1.0,1.0,1.0,1.0,1.0,1.0,1.0,1.0,1.0,1.0,1.0,1.0,1.0,1.0,1.0,1.0,1.0,1.0,1.0,1.0,1.0,1.0,1.0,1.0,1.0,1.0,1.0,1.0,1.0,1.0,1.0,1.0,1.0,1.0,1.0,1.0,1.0,1.0,1.0,1.0,1.0,1.0,1.0,1.0,1.0],\"type\":\"scatter\"}],                        {\"template\":{\"data\":{\"histogram2dcontour\":[{\"type\":\"histogram2dcontour\",\"colorbar\":{\"outlinewidth\":0,\"ticks\":\"\"},\"colorscale\":[[0.0,\"#0d0887\"],[0.1111111111111111,\"#46039f\"],[0.2222222222222222,\"#7201a8\"],[0.3333333333333333,\"#9c179e\"],[0.4444444444444444,\"#bd3786\"],[0.5555555555555556,\"#d8576b\"],[0.6666666666666666,\"#ed7953\"],[0.7777777777777778,\"#fb9f3a\"],[0.8888888888888888,\"#fdca26\"],[1.0,\"#f0f921\"]]}],\"choropleth\":[{\"type\":\"choropleth\",\"colorbar\":{\"outlinewidth\":0,\"ticks\":\"\"}}],\"histogram2d\":[{\"type\":\"histogram2d\",\"colorbar\":{\"outlinewidth\":0,\"ticks\":\"\"},\"colorscale\":[[0.0,\"#0d0887\"],[0.1111111111111111,\"#46039f\"],[0.2222222222222222,\"#7201a8\"],[0.3333333333333333,\"#9c179e\"],[0.4444444444444444,\"#bd3786\"],[0.5555555555555556,\"#d8576b\"],[0.6666666666666666,\"#ed7953\"],[0.7777777777777778,\"#fb9f3a\"],[0.8888888888888888,\"#fdca26\"],[1.0,\"#f0f921\"]]}],\"heatmap\":[{\"type\":\"heatmap\",\"colorbar\":{\"outlinewidth\":0,\"ticks\":\"\"},\"colorscale\":[[0.0,\"#0d0887\"],[0.1111111111111111,\"#46039f\"],[0.2222222222222222,\"#7201a8\"],[0.3333333333333333,\"#9c179e\"],[0.4444444444444444,\"#bd3786\"],[0.5555555555555556,\"#d8576b\"],[0.6666666666666666,\"#ed7953\"],[0.7777777777777778,\"#fb9f3a\"],[0.8888888888888888,\"#fdca26\"],[1.0,\"#f0f921\"]]}],\"heatmapgl\":[{\"type\":\"heatmapgl\",\"colorbar\":{\"outlinewidth\":0,\"ticks\":\"\"},\"colorscale\":[[0.0,\"#0d0887\"],[0.1111111111111111,\"#46039f\"],[0.2222222222222222,\"#7201a8\"],[0.3333333333333333,\"#9c179e\"],[0.4444444444444444,\"#bd3786\"],[0.5555555555555556,\"#d8576b\"],[0.6666666666666666,\"#ed7953\"],[0.7777777777777778,\"#fb9f3a\"],[0.8888888888888888,\"#fdca26\"],[1.0,\"#f0f921\"]]}],\"contourcarpet\":[{\"type\":\"contourcarpet\",\"colorbar\":{\"outlinewidth\":0,\"ticks\":\"\"}}],\"contour\":[{\"type\":\"contour\",\"colorbar\":{\"outlinewidth\":0,\"ticks\":\"\"},\"colorscale\":[[0.0,\"#0d0887\"],[0.1111111111111111,\"#46039f\"],[0.2222222222222222,\"#7201a8\"],[0.3333333333333333,\"#9c179e\"],[0.4444444444444444,\"#bd3786\"],[0.5555555555555556,\"#d8576b\"],[0.6666666666666666,\"#ed7953\"],[0.7777777777777778,\"#fb9f3a\"],[0.8888888888888888,\"#fdca26\"],[1.0,\"#f0f921\"]]}],\"surface\":[{\"type\":\"surface\",\"colorbar\":{\"outlinewidth\":0,\"ticks\":\"\"},\"colorscale\":[[0.0,\"#0d0887\"],[0.1111111111111111,\"#46039f\"],[0.2222222222222222,\"#7201a8\"],[0.3333333333333333,\"#9c179e\"],[0.4444444444444444,\"#bd3786\"],[0.5555555555555556,\"#d8576b\"],[0.6666666666666666,\"#ed7953\"],[0.7777777777777778,\"#fb9f3a\"],[0.8888888888888888,\"#fdca26\"],[1.0,\"#f0f921\"]]}],\"mesh3d\":[{\"type\":\"mesh3d\",\"colorbar\":{\"outlinewidth\":0,\"ticks\":\"\"}}],\"scatter\":[{\"fillpattern\":{\"fillmode\":\"overlay\",\"size\":10,\"solidity\":0.2},\"type\":\"scatter\"}],\"parcoords\":[{\"type\":\"parcoords\",\"line\":{\"colorbar\":{\"outlinewidth\":0,\"ticks\":\"\"}}}],\"scatterpolargl\":[{\"type\":\"scatterpolargl\",\"marker\":{\"colorbar\":{\"outlinewidth\":0,\"ticks\":\"\"}}}],\"bar\":[{\"error_x\":{\"color\":\"#2a3f5f\"},\"error_y\":{\"color\":\"#2a3f5f\"},\"marker\":{\"line\":{\"color\":\"#E5ECF6\",\"width\":0.5},\"pattern\":{\"fillmode\":\"overlay\",\"size\":10,\"solidity\":0.2}},\"type\":\"bar\"}],\"scattergeo\":[{\"type\":\"scattergeo\",\"marker\":{\"colorbar\":{\"outlinewidth\":0,\"ticks\":\"\"}}}],\"scatterpolar\":[{\"type\":\"scatterpolar\",\"marker\":{\"colorbar\":{\"outlinewidth\":0,\"ticks\":\"\"}}}],\"histogram\":[{\"marker\":{\"pattern\":{\"fillmode\":\"overlay\",\"size\":10,\"solidity\":0.2}},\"type\":\"histogram\"}],\"scattergl\":[{\"type\":\"scattergl\",\"marker\":{\"colorbar\":{\"outlinewidth\":0,\"ticks\":\"\"}}}],\"scatter3d\":[{\"type\":\"scatter3d\",\"line\":{\"colorbar\":{\"outlinewidth\":0,\"ticks\":\"\"}},\"marker\":{\"colorbar\":{\"outlinewidth\":0,\"ticks\":\"\"}}}],\"scattermapbox\":[{\"type\":\"scattermapbox\",\"marker\":{\"colorbar\":{\"outlinewidth\":0,\"ticks\":\"\"}}}],\"scatterternary\":[{\"type\":\"scatterternary\",\"marker\":{\"colorbar\":{\"outlinewidth\":0,\"ticks\":\"\"}}}],\"scattercarpet\":[{\"type\":\"scattercarpet\",\"marker\":{\"colorbar\":{\"outlinewidth\":0,\"ticks\":\"\"}}}],\"carpet\":[{\"aaxis\":{\"endlinecolor\":\"#2a3f5f\",\"gridcolor\":\"white\",\"linecolor\":\"white\",\"minorgridcolor\":\"white\",\"startlinecolor\":\"#2a3f5f\"},\"baxis\":{\"endlinecolor\":\"#2a3f5f\",\"gridcolor\":\"white\",\"linecolor\":\"white\",\"minorgridcolor\":\"white\",\"startlinecolor\":\"#2a3f5f\"},\"type\":\"carpet\"}],\"table\":[{\"cells\":{\"fill\":{\"color\":\"#EBF0F8\"},\"line\":{\"color\":\"white\"}},\"header\":{\"fill\":{\"color\":\"#C8D4E3\"},\"line\":{\"color\":\"white\"}},\"type\":\"table\"}],\"barpolar\":[{\"marker\":{\"line\":{\"color\":\"#E5ECF6\",\"width\":0.5},\"pattern\":{\"fillmode\":\"overlay\",\"size\":10,\"solidity\":0.2}},\"type\":\"barpolar\"}],\"pie\":[{\"automargin\":true,\"type\":\"pie\"}]},\"layout\":{\"autotypenumbers\":\"strict\",\"colorway\":[\"#636efa\",\"#EF553B\",\"#00cc96\",\"#ab63fa\",\"#FFA15A\",\"#19d3f3\",\"#FF6692\",\"#B6E880\",\"#FF97FF\",\"#FECB52\"],\"font\":{\"color\":\"#2a3f5f\"},\"hovermode\":\"closest\",\"hoverlabel\":{\"align\":\"left\"},\"paper_bgcolor\":\"white\",\"plot_bgcolor\":\"#E5ECF6\",\"polar\":{\"bgcolor\":\"#E5ECF6\",\"angularaxis\":{\"gridcolor\":\"white\",\"linecolor\":\"white\",\"ticks\":\"\"},\"radialaxis\":{\"gridcolor\":\"white\",\"linecolor\":\"white\",\"ticks\":\"\"}},\"ternary\":{\"bgcolor\":\"#E5ECF6\",\"aaxis\":{\"gridcolor\":\"white\",\"linecolor\":\"white\",\"ticks\":\"\"},\"baxis\":{\"gridcolor\":\"white\",\"linecolor\":\"white\",\"ticks\":\"\"},\"caxis\":{\"gridcolor\":\"white\",\"linecolor\":\"white\",\"ticks\":\"\"}},\"coloraxis\":{\"colorbar\":{\"outlinewidth\":0,\"ticks\":\"\"}},\"colorscale\":{\"sequential\":[[0.0,\"#0d0887\"],[0.1111111111111111,\"#46039f\"],[0.2222222222222222,\"#7201a8\"],[0.3333333333333333,\"#9c179e\"],[0.4444444444444444,\"#bd3786\"],[0.5555555555555556,\"#d8576b\"],[0.6666666666666666,\"#ed7953\"],[0.7777777777777778,\"#fb9f3a\"],[0.8888888888888888,\"#fdca26\"],[1.0,\"#f0f921\"]],\"sequentialminus\":[[0.0,\"#0d0887\"],[0.1111111111111111,\"#46039f\"],[0.2222222222222222,\"#7201a8\"],[0.3333333333333333,\"#9c179e\"],[0.4444444444444444,\"#bd3786\"],[0.5555555555555556,\"#d8576b\"],[0.6666666666666666,\"#ed7953\"],[0.7777777777777778,\"#fb9f3a\"],[0.8888888888888888,\"#fdca26\"],[1.0,\"#f0f921\"]],\"diverging\":[[0,\"#8e0152\"],[0.1,\"#c51b7d\"],[0.2,\"#de77ae\"],[0.3,\"#f1b6da\"],[0.4,\"#fde0ef\"],[0.5,\"#f7f7f7\"],[0.6,\"#e6f5d0\"],[0.7,\"#b8e186\"],[0.8,\"#7fbc41\"],[0.9,\"#4d9221\"],[1,\"#276419\"]]},\"xaxis\":{\"gridcolor\":\"white\",\"linecolor\":\"white\",\"ticks\":\"\",\"title\":{\"standoff\":15},\"zerolinecolor\":\"white\",\"automargin\":true,\"zerolinewidth\":2},\"yaxis\":{\"gridcolor\":\"white\",\"linecolor\":\"white\",\"ticks\":\"\",\"title\":{\"standoff\":15},\"zerolinecolor\":\"white\",\"automargin\":true,\"zerolinewidth\":2},\"scene\":{\"xaxis\":{\"backgroundcolor\":\"#E5ECF6\",\"gridcolor\":\"white\",\"linecolor\":\"white\",\"showbackground\":true,\"ticks\":\"\",\"zerolinecolor\":\"white\",\"gridwidth\":2},\"yaxis\":{\"backgroundcolor\":\"#E5ECF6\",\"gridcolor\":\"white\",\"linecolor\":\"white\",\"showbackground\":true,\"ticks\":\"\",\"zerolinecolor\":\"white\",\"gridwidth\":2},\"zaxis\":{\"backgroundcolor\":\"#E5ECF6\",\"gridcolor\":\"white\",\"linecolor\":\"white\",\"showbackground\":true,\"ticks\":\"\",\"zerolinecolor\":\"white\",\"gridwidth\":2}},\"shapedefaults\":{\"line\":{\"color\":\"#2a3f5f\"}},\"annotationdefaults\":{\"arrowcolor\":\"#2a3f5f\",\"arrowhead\":0,\"arrowwidth\":1},\"geo\":{\"bgcolor\":\"white\",\"landcolor\":\"#E5ECF6\",\"subunitcolor\":\"white\",\"showland\":true,\"showlakes\":true,\"lakecolor\":\"white\"},\"title\":{\"x\":0.05},\"mapbox\":{\"style\":\"light\"}}}},                        {\"responsive\": true}                    ).then(function(){\n",
       "                            \n",
       "var gd = document.getElementById('3657a698-ef42-4b0a-9524-b9f54301eb4e');\n",
       "var x = new MutationObserver(function (mutations, observer) {{\n",
       "        var display = window.getComputedStyle(gd).display;\n",
       "        if (!display || display === 'none') {{\n",
       "            console.log([gd, 'removed!']);\n",
       "            Plotly.purge(gd);\n",
       "            observer.disconnect();\n",
       "        }}\n",
       "}});\n",
       "\n",
       "// Listen for the removal of the full notebook cells\n",
       "var notebookContainer = gd.closest('#notebook-container');\n",
       "if (notebookContainer) {{\n",
       "    x.observe(notebookContainer, {childList: true});\n",
       "}}\n",
       "\n",
       "// Listen for the clearing of the current output cell\n",
       "var outputEl = gd.closest('.output');\n",
       "if (outputEl) {{\n",
       "    x.observe(outputEl, {childList: true});\n",
       "}}\n",
       "\n",
       "                        })                };                });            </script>        </div>"
      ]
     },
     "metadata": {},
     "output_type": "display_data"
    }
   ],
   "source": [
    "fig = go.Figure()\n",
    "fig.add_trace(go.Bar(y=ExpRVList[:maxExpX], name='Simulation'))\n",
    "fig.add_trace(go.Scatter(x=xList, y=yList, mode='lines', name='Exp Dist.'))\n",
    "fig.show()"
   ]
  }
 ],
 "metadata": {
  "kernelspec": {
   "display_name": "Python 3 (ipykernel)",
   "language": "python",
   "name": "python3"
  },
  "language_info": {
   "codemirror_mode": {
    "name": "ipython",
    "version": 3
   },
   "file_extension": ".py",
   "mimetype": "text/x-python",
   "name": "python",
   "nbconvert_exporter": "python",
   "pygments_lexer": "ipython3",
   "version": "3.9.7"
  }
 },
 "nbformat": 4,
 "nbformat_minor": 5
}
